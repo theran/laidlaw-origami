{
 "cells": [
  {
   "cell_type": "markdown",
   "metadata": {},
   "source": [
    "# Rigidty Examples\r\n",
    "\r\n",
    "In this notebook, we will be exploring the rigidity.py module\r\n"
   ]
  },
  {
   "cell_type": "code",
   "execution_count": 1,
   "metadata": {},
   "outputs": [],
   "source": [
    "from math import sin, cos, pi\r\n",
    "import numpy as np\r\n",
    "import rigidity"
   ]
  },
  {
   "cell_type": "markdown",
   "metadata": {},
   "source": [
    "## Four vertex example"
   ]
  },
  {
   "cell_type": "code",
   "execution_count": 2,
   "metadata": {},
   "outputs": [],
   "source": [
    "# Define translations for the affine transformation\r\n",
    "l1 = np.matrix([0,0,3]).transpose()\r\n",
    "l2 = np.matrix([0,0,10]).transpose()\r\n",
    "\r\n",
    "# Define the rotations for the affine transformations\r\n",
    "theta1 = pi/6\r\n",
    "theta2 = pi/20\r\n",
    "\r\n",
    "S1 = np.matrix([\r\n",
    "    [cos(theta1), -sin(theta1), 0],\r\n",
    "    [sin(theta1), cos(theta1), 0],\r\n",
    "    [0, 0, 1]])\r\n",
    "\r\n",
    "S2 = np.matrix([\r\n",
    "    [cos(theta2), -sin(theta2), 0],\r\n",
    "    [sin(theta2), cos(theta2), 0],\r\n",
    "    [0, 0, 1]])\r\n",
    "\r\n",
    "T1 = rigidity.AffineTransform(S1, l1)\r\n",
    "T2 = rigidity.AffineTransform(S2, l2)\r\n",
    "\r\n",
    "# Define the vertices and edge markings for the graph\r\n",
    "verts = [0, 1, 2, 3]\r\n",
    "edges = {\r\n",
    "    0: [(1, 0, 0), (2, 0, 0), (3, 0, 0)],\r\n",
    "    1: [(0, 1, 0), (2, 1, 0), (3, 0, 0)],\r\n",
    "    2: [(0, 0, 1), (1, 0, 1), (3, 0, 0)],\r\n",
    "    3: [(0, 1, 1), (1, 0, 1), (2, 1, 0)]\r\n",
    "}\r\n",
    "G = [verts, edges]\r\n",
    "\r\n",
    "# Define the 'base' framework\r\n",
    "r1 = np.matrix([2, 0, 0]).transpose()\r\n",
    "r2 = np.matrix([3, 2, 1]).transpose()\r\n",
    "r3 = np.matrix([4, 0, 2]).transpose()\r\n",
    "r4 = np.matrix([5, 2, 3]).transpose()\r\n",
    "P = [r1, r2, r3, r4]\r\n",
    "\r\n",
    "# Define the number of group elements to create\r\n",
    "n = (24, 2)\r\n",
    "\r\n",
    "# Create the framework\r\n",
    "f1 = rigidity.ScrewFramework(G, P, T1, T2)\r\n"
   ]
  },
  {
   "cell_type": "code",
   "execution_count": 3,
   "metadata": {},
   "outputs": [
    {
     "data": {
      "text/plain": [
       "10"
      ]
     },
     "execution_count": 3,
     "metadata": {},
     "output_type": "execute_result"
    }
   ],
   "source": [
    "# Create the rigidity matrix\r\n",
    "R = f1.rigidityMatrix()\r\n",
    "np.linalg.matrix_rank(R)"
   ]
  },
  {
   "cell_type": "markdown",
   "metadata": {},
   "source": [
    "## One vertex example"
   ]
  },
  {
   "cell_type": "code",
   "execution_count": 4,
   "metadata": {},
   "outputs": [],
   "source": [
    "verts = [0]\r\n",
    "edges = {0: [(0, 0, 1), (0, 1, 0), (0, 1, 1)]}\r\n",
    "G = [verts, edges]\r\n",
    "\r\n",
    "r1 = np.matrix([1, 0, 0]).transpose()\r\n",
    "P = [r1]\r\n",
    "\r\n",
    "n = (24, 2)\r\n",
    "f2 = rigidity.ScrewFramework(G, P, T1, T2)"
   ]
  },
  {
   "cell_type": "code",
   "execution_count": 5,
   "metadata": {},
   "outputs": [],
   "source": [
    "from sympy import Matrix\r\n",
    "R2 = f2.rigidityMatrix()"
   ]
  },
  {
   "cell_type": "code",
   "execution_count": 6,
   "metadata": {},
   "outputs": [
    {
     "data": {
      "text/plain": [
       "array([[2.3995217e-16, 0.0000000e+00],\n",
       "       [1.0000000e+00, 0.0000000e+00],\n",
       "       [0.0000000e+00, 1.0000000e+00]])"
      ]
     },
     "execution_count": 6,
     "metadata": {},
     "output_type": "execute_result"
    }
   ],
   "source": [
    "import scipy.linalg\r\n",
    "scipy.linalg.null_space(R2)"
   ]
  },
  {
   "cell_type": "markdown",
   "metadata": {},
   "source": [
    "## Clasical Framework in 3D"
   ]
  },
  {
   "cell_type": "code",
   "execution_count": 7,
   "metadata": {},
   "outputs": [],
   "source": [
    "verts = [0,1,2,3]\r\n",
    "edges = {\r\n",
    "    0: [1, 2],\r\n",
    "    1: [0, 2, 3],\r\n",
    "    2: [0, 1, 3],\r\n",
    "    3: [1, 2]\r\n",
    "}\r\n",
    "G = [verts, edges]\r\n",
    "\r\n",
    "r1 = np.matrix([0, 0, 0]).transpose()\r\n",
    "r2 = np.matrix([1, 0, 0]).transpose()\r\n",
    "r3 = np.matrix([0, 1, 0]).transpose()\r\n",
    "r4 = np.matrix([0, 0, 1]).transpose()\r\n",
    "P = [r1, r2, r3, r4]\r\n",
    "\r\n",
    "f3 = rigidity.Framework(G, P)"
   ]
  },
  {
   "cell_type": "code",
   "execution_count": 8,
   "metadata": {},
   "outputs": [
    {
     "data": {
      "text/plain": [
       "array([[-1.,  0.,  0.,  1.,  0.,  0.,  0.,  0.,  0.,  0.,  0.,  0.],\n",
       "       [ 0., -1.,  0.,  0.,  0.,  0.,  0.,  1.,  0.,  0.,  0.,  0.],\n",
       "       [ 0.,  0.,  0.,  1., -1.,  0., -1.,  1.,  0.,  0.,  0.,  0.],\n",
       "       [ 0.,  0.,  0.,  1.,  0., -1.,  0.,  0.,  0., -1.,  0.,  1.],\n",
       "       [ 0.,  0.,  0.,  0.,  0.,  0.,  0.,  1., -1.,  0., -1.,  1.]])"
      ]
     },
     "execution_count": 8,
     "metadata": {},
     "output_type": "execute_result"
    }
   ],
   "source": [
    "f3.rigidityMatrix()"
   ]
  },
  {
   "cell_type": "code",
   "execution_count": 9,
   "metadata": {},
   "outputs": [
    {
     "data": {
      "text/latex": [
       "$\\displaystyle \\left[\\begin{matrix}p_{0} - p_{1} & - p_{0} + p_{1} & 0 & 0\\\\p_{0} - p_{2} & 0 & - p_{0} + p_{2} & 0\\\\0 & p_{1} - p_{2} & - p_{1} + p_{2} & 0\\\\0 & p_{1} - p_{3} & 0 & - p_{1} + p_{3}\\\\0 & 0 & p_{2} - p_{3} & - p_{2} + p_{3}\\end{matrix}\\right]$"
      ],
      "text/plain": [
       "Matrix([\n",
       "[p0 - p1, -p0 + p1,        0,        0],\n",
       "[p0 - p2,        0, -p0 + p2,        0],\n",
       "[      0,  p1 - p2, -p1 + p2,        0],\n",
       "[      0,  p1 - p3,        0, -p1 + p3],\n",
       "[      0,        0,  p2 - p3, -p2 + p3]])"
      ]
     },
     "execution_count": 9,
     "metadata": {},
     "output_type": "execute_result"
    }
   ],
   "source": [
    "f3.symbolicRigidityMatrix()"
   ]
  },
  {
   "cell_type": "code",
   "execution_count": 10,
   "metadata": {},
   "outputs": [
    {
     "data": {
      "text/plain": [
       "5"
      ]
     },
     "execution_count": 10,
     "metadata": {},
     "output_type": "execute_result"
    }
   ],
   "source": [
    "np.linalg.matrix_rank(f3.rigidityMatrix())"
   ]
  },
  {
   "cell_type": "code",
   "execution_count": 11,
   "metadata": {},
   "outputs": [
    {
     "data": {
      "text/plain": [
       "[Matrix([\n",
       " [0],\n",
       " [0],\n",
       " [0]]),\n",
       " Matrix([\n",
       " [         0],\n",
       " [         0],\n",
       " [-x30 + x32]]),\n",
       " Matrix([\n",
       " [0],\n",
       " [0],\n",
       " [0]]),\n",
       " Matrix([\n",
       " [x30],\n",
       " [x32],\n",
       " [x32]])]"
      ]
     },
     "execution_count": 11,
     "metadata": {},
     "output_type": "execute_result"
    }
   ],
   "source": [
    "f3.infinitesimalFlex()"
   ]
  },
  {
   "cell_type": "code",
   "execution_count": 12,
   "metadata": {},
   "outputs": [
    {
     "data": {
      "application/vnd.jupyter.widget-view+json": {
       "model_id": "2e04428de5704a3d94f98acd55d73f8a",
       "version_major": 2,
       "version_minor": 0
      },
      "text/plain": [
       "Canvas(toolbar=Toolbar(toolitems=[('Home', 'Reset original view', 'home', 'home'), ('Back', 'Back to previous …"
      ]
     },
     "metadata": {},
     "output_type": "display_data"
    }
   ],
   "source": [
    "%matplotlib widget\r\n",
    "f3.draw()"
   ]
  },
  {
   "cell_type": "markdown",
   "metadata": {},
   "source": [
    "## Classical Framework in 2D"
   ]
  },
  {
   "cell_type": "code",
   "execution_count": 13,
   "metadata": {},
   "outputs": [],
   "source": [
    "verts = [0,1,2,3]\r\n",
    "edges = {\r\n",
    "    0: [1, 2],\r\n",
    "    1: [0, 2, 3],\r\n",
    "    2: [0, 1, 3],\r\n",
    "    3: [1, 2]\r\n",
    "}\r\n",
    "G = [verts, edges]\r\n",
    "\r\n",
    "r1 = np.matrix([0, 0]).transpose()\r\n",
    "r2 = np.matrix([1, 0]).transpose()\r\n",
    "r3 = np.matrix([0, 1]).transpose()\r\n",
    "r4 = np.matrix([1, 1]).transpose()\r\n",
    "P = [r1, r2, r3, r4]\r\n",
    "\r\n",
    "f4 = rigidity.Framework(G, P)"
   ]
  },
  {
   "cell_type": "code",
   "execution_count": 14,
   "metadata": {},
   "outputs": [
    {
     "data": {
      "text/plain": [
       "array([[-1.,  0.,  1.,  0.,  0.,  0.,  0.,  0.],\n",
       "       [ 0., -1.,  0.,  0.,  0.,  1.,  0.,  0.],\n",
       "       [ 0.,  0.,  1., -1., -1.,  1.,  0.,  0.],\n",
       "       [ 0.,  0.,  0., -1.,  0.,  0.,  0.,  1.],\n",
       "       [ 0.,  0.,  0.,  0., -1.,  0.,  1.,  0.]])"
      ]
     },
     "execution_count": 14,
     "metadata": {},
     "output_type": "execute_result"
    }
   ],
   "source": [
    "f4.rigidityMatrix()"
   ]
  },
  {
   "cell_type": "code",
   "execution_count": 15,
   "metadata": {},
   "outputs": [
    {
     "data": {
      "text/latex": [
       "$\\displaystyle \\left[\\begin{matrix}p_{0} - p_{1} & - p_{0} + p_{1} & 0 & 0\\\\p_{0} - p_{2} & 0 & - p_{0} + p_{2} & 0\\\\0 & p_{1} - p_{2} & - p_{1} + p_{2} & 0\\\\0 & p_{1} - p_{3} & 0 & - p_{1} + p_{3}\\\\0 & 0 & p_{2} - p_{3} & - p_{2} + p_{3}\\end{matrix}\\right]$"
      ],
      "text/plain": [
       "Matrix([\n",
       "[p0 - p1, -p0 + p1,        0,        0],\n",
       "[p0 - p2,        0, -p0 + p2,        0],\n",
       "[      0,  p1 - p2, -p1 + p2,        0],\n",
       "[      0,  p1 - p3,        0, -p1 + p3],\n",
       "[      0,        0,  p2 - p3, -p2 + p3]])"
      ]
     },
     "execution_count": 15,
     "metadata": {},
     "output_type": "execute_result"
    }
   ],
   "source": [
    "f4.symbolicRigidityMatrix()"
   ]
  },
  {
   "cell_type": "code",
   "execution_count": 16,
   "metadata": {},
   "outputs": [
    {
     "data": {
      "text/plain": [
       "[Matrix([\n",
       " [0],\n",
       " [0]]),\n",
       " Matrix([\n",
       " [0],\n",
       " [0]]),\n",
       " Matrix([\n",
       " [0],\n",
       " [0]]),\n",
       " Matrix([\n",
       " [0],\n",
       " [0]])]"
      ]
     },
     "execution_count": 16,
     "metadata": {},
     "output_type": "execute_result"
    }
   ],
   "source": [
    "f4.infinitesimalFlex()"
   ]
  },
  {
   "cell_type": "code",
   "execution_count": 18,
   "metadata": {},
   "outputs": [
    {
     "data": {
      "application/vnd.jupyter.widget-view+json": {
       "model_id": "e47ce861b929433ab3b7dd5eccf6ee66",
       "version_major": 2,
       "version_minor": 0
      },
      "text/plain": [
       "Canvas(toolbar=Toolbar(toolitems=[('Home', 'Reset original view', 'home', 'home'), ('Back', 'Back to previous …"
      ]
     },
     "metadata": {},
     "output_type": "display_data"
    }
   ],
   "source": [
    "f4.draw()"
   ]
  }
 ],
 "metadata": {
  "interpreter": {
   "hash": "12524c2f6cf4a5b8bb2aee4aaa408d284f273fcd894d46d1287f258afb38f018"
  },
  "kernelspec": {
   "display_name": "Python 3.9.5 64-bit ('laidlaw': conda)",
   "name": "python3"
  },
  "language_info": {
   "codemirror_mode": {
    "name": "ipython",
    "version": 3
   },
   "file_extension": ".py",
   "mimetype": "text/x-python",
   "name": "python",
   "nbconvert_exporter": "python",
   "pygments_lexer": "ipython3",
   "version": "3.9.5"
  },
  "orig_nbformat": 4
 },
 "nbformat": 4,
 "nbformat_minor": 2
}