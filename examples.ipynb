{
 "cells": [
  {
   "cell_type": "markdown",
   "metadata": {},
   "source": [
    "# Rigidty Examples\r\n",
    "\r\n",
    "In this notebook, we will be exploring the rigidity.py module\r\n"
   ]
  },
  {
   "cell_type": "code",
   "execution_count": 1,
   "metadata": {},
   "outputs": [],
   "source": [
    "from math import sin, cos, pi\r\n",
    "import numpy as np\r\n",
    "import rigidity\r\n",
    "\r\n",
    "# Define translations for the affine transformation\r\n",
    "l1 = np.matrix([0,0,3]).transpose()\r\n",
    "l2 = np.matrix([0,0,10]).transpose()\r\n",
    "\r\n",
    "# Define the rotations for the affine transformations\r\n",
    "theta1 = pi/6\r\n",
    "theta2 = pi/20\r\n",
    "\r\n",
    "S1 = np.matrix([\r\n",
    "    [cos(theta1), -sin(theta1), 0],\r\n",
    "    [sin(theta1), cos(theta1), 0],\r\n",
    "    [0, 0, 1]])\r\n",
    "\r\n",
    "S2 = np.matrix([\r\n",
    "    [cos(theta2), -sin(theta2), 0],\r\n",
    "    [sin(theta2), cos(theta2), 0],\r\n",
    "    [0, 0, 1]])\r\n",
    "\r\n",
    "T1 = rigidity.AffineTransform(S1, l1)\r\n",
    "T2 = rigidity.AffineTransform(S2, l2)\r\n",
    "\r\n",
    "# Define the vertices and edge markings for the graph\r\n",
    "verts = [0, 1, 2, 3]\r\n",
    "edges = {\r\n",
    "    0: [(1, 0, 0), (2, 0, 0), (3, 0, 0)],\r\n",
    "    1: [(0, 1, 0), (2, 1, 0), (3, 0, 0)],\r\n",
    "    2: [(0, 0, 1), (1, 0, 1), (3, 0, 0)],\r\n",
    "    3: [(0, 1, 1), (1, 0, 1), (2, 1, 0)]\r\n",
    "}\r\n",
    "G = [verts, edges]\r\n",
    "\r\n",
    "# Define the 'base' framework\r\n",
    "r1 = np.matrix([2, 0, 0]).transpose()\r\n",
    "r2 = np.matrix([3, 2, 1]).transpose()\r\n",
    "r3 = np.matrix([4, 0, 2]).transpose()\r\n",
    "r4 = np.matrix([5, 2, 3]).transpose()\r\n",
    "P = [r1, r2, r3, r4]\r\n",
    "\r\n",
    "# Define the number of group elements to create\r\n",
    "n = (24, 2)\r\n",
    "\r\n",
    "# Create the framework\r\n",
    "f1 = rigidity.Framework(G, P, n, T1, T2)\r\n"
   ]
  },
  {
   "cell_type": "code",
   "execution_count": 8,
   "metadata": {},
   "outputs": [
    {
     "data": {
      "text/plain": [
       "10"
      ]
     },
     "execution_count": 8,
     "metadata": {},
     "output_type": "execute_result"
    }
   ],
   "source": [
    "# Create the rigidity matrix\r\n",
    "R = f1.rigidityMatrix()\r\n",
    "np.linalg.matrix_rank(R)"
   ]
  }
 ],
 "metadata": {
  "interpreter": {
   "hash": "12524c2f6cf4a5b8bb2aee4aaa408d284f273fcd894d46d1287f258afb38f018"
  },
  "kernelspec": {
   "display_name": "Python 3.9.5 64-bit ('laidlaw': conda)",
   "name": "python3"
  },
  "language_info": {
   "name": "python",
   "version": ""
  },
  "orig_nbformat": 4
 },
 "nbformat": 4,
 "nbformat_minor": 2
}