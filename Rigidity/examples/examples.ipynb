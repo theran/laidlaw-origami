{
 "cells": [
  {
   "cell_type": "markdown",
   "source": [
    "# Rigidty Examples\r\n",
    "\r\n",
    "In this notebook, we will be exploring the rigidity.py module\r\n"
   ],
   "metadata": {}
  },
  {
   "cell_type": "code",
   "execution_count": null,
   "source": [
    "import sys\r\n",
    "sys.path.append('..')\r\n",
    "from math import sin, cos, pi\r\n",
    "import numpy as np\r\n",
    "import rigidity"
   ],
   "outputs": [],
   "metadata": {}
  },
  {
   "cell_type": "markdown",
   "source": [
    "## Screw-Periodic Framework on Four Vertices"
   ],
   "metadata": {}
  },
  {
   "cell_type": "code",
   "execution_count": null,
   "source": [
    "# Define translations for the affine transformation\r\n",
    "l1 = np.array([0,0,3])\r\n",
    "l2 = np.array([0,0,10])\r\n",
    "\r\n",
    "# Define the rotations for the affine transformations\r\n",
    "theta1 = pi/6\r\n",
    "theta2 = pi/20\r\n",
    "\r\n",
    "S1 = np.array([\r\n",
    "    [cos(theta1), -sin(theta1), 0],\r\n",
    "    [sin(theta1), cos(theta1), 0],\r\n",
    "    [0, 0, 1]])\r\n",
    "\r\n",
    "S2 = np.array([\r\n",
    "    [cos(theta2), -sin(theta2), 0],\r\n",
    "    [sin(theta2), cos(theta2), 0],\r\n",
    "    [0, 0, 1]])\r\n",
    "\r\n",
    "T1 = rigidity.AffineTransform(S1, l1)\r\n",
    "T2 = rigidity.AffineTransform(S2, l2)\r\n",
    "\r\n",
    "# Define the vertices and edge markings for the graph\r\n",
    "verts = [0, 1, 2, 3]\r\n",
    "edges = {\r\n",
    "    0: [(1, 0, 0), (2, 0, 0), (3, 0, 0)],\r\n",
    "    1: [(0, 1, 0), (2, 1, 0), (3, 0, 0)],\r\n",
    "    2: [(0, 0, 1), (1, 0, 1), (3, 0, 0)],\r\n",
    "    3: [(0, 1, 1), (1, 0, 1), (2, 1, 0)]\r\n",
    "}\r\n",
    "G = [verts, edges]\r\n",
    "\r\n",
    "# Define the 'base' framework\r\n",
    "r1 = np.array([1, 0, 0])\r\n",
    "r3 = np.array([4, 0, 2])\r\n",
    "r2 = np.array([3, 2, 1])\r\n",
    "r4 = np.array([5, 2, 3])\r\n",
    "P = np.column_stack([r1, r2, r3, r4])\r\n",
    "\r\n",
    "# Define the number of group elements to create\r\n",
    "n = (24, 2)\r\n",
    "\r\n",
    "# Create the framework\r\n",
    "f1 = rigidity.ScrewFramework(G, P, T1, T2)\r\n"
   ],
   "outputs": [],
   "metadata": {}
  },
  {
   "cell_type": "code",
   "execution_count": null,
   "source": [
    "# Create the rigidity matrix\r\n",
    "R = f1.rigidityMatrix()"
   ],
   "outputs": [],
   "metadata": {}
  },
  {
   "cell_type": "code",
   "execution_count": null,
   "source": [
    "%matplotlib widget\r\n",
    "# Draw a portion of the framework\r\n",
    "A = f1.draw(n, EKwargs={'alpha':0.2})"
   ],
   "outputs": [],
   "metadata": {}
  },
  {
   "cell_type": "markdown",
   "source": [
    "## Screw-Periodic Framework on One Vertex"
   ],
   "metadata": {}
  },
  {
   "cell_type": "code",
   "execution_count": null,
   "source": [
    "verts = [0]\r\n",
    "edges = {0: [(0, 0, 1), (0, 1, 0), (0, 1, 1)]}\r\n",
    "G = [verts, edges]\r\n",
    "\r\n",
    "r1 = np.array([1, 0, 0])\r\n",
    "P = np.column_stack([r1])\r\n",
    "\r\n",
    "n = (24, 2)\r\n",
    "f2 = rigidity.ScrewFramework(G, P, T1, T2)"
   ],
   "outputs": [],
   "metadata": {}
  },
  {
   "cell_type": "code",
   "execution_count": null,
   "source": [
    "R2 = f2.rigidityMatrix()"
   ],
   "outputs": [],
   "metadata": {}
  },
  {
   "cell_type": "code",
   "execution_count": null,
   "source": [
    "F = f2.draw((2,2), VKwargs={'c':'red'}, EKwargs={'c':'green', 'alpha':0.7})"
   ],
   "outputs": [],
   "metadata": {}
  },
  {
   "cell_type": "markdown",
   "source": [
    "## Clasical Framework in 3D"
   ],
   "metadata": {}
  },
  {
   "cell_type": "code",
   "execution_count": null,
   "source": [
    "verts = [0,1,2,3,4,5]\r\n",
    "edges = {\r\n",
    "    0: [1, 2, 3, 4],\r\n",
    "    1: [0, 2, 4, 5],\r\n",
    "    2: [0, 1, 3, 5],\r\n",
    "    3: [0, 1, 4, 5],\r\n",
    "    4: [0, 1, 3, 5],\r\n",
    "    5: [1, 2, 3, 4],\r\n",
    "}\r\n",
    "G = [verts, edges]\r\n",
    "\r\n",
    "r0 = np.array([ 0,  0, 0])\r\n",
    "r1 = np.array([ 1,  1, 1])\r\n",
    "r2 = np.array([ 1, -1, 1])\r\n",
    "r3 = np.array([-1, -1, 1])\r\n",
    "r4 = np.array([-1,  1, 1])\r\n",
    "r5 = np.array([ 0,  0, 1])\r\n",
    "\r\n",
    "P = np.column_stack([r0, r1, r2, r3, r4, r5])\r\n",
    "\r\n",
    "f3 = rigidity.Framework(G, P)"
   ],
   "outputs": [],
   "metadata": {}
  },
  {
   "cell_type": "code",
   "execution_count": null,
   "source": [
    "# Perform a vertex split\r\n",
    "f3_2 = f3.vertexSplit(5, np.array([0.01, 0.01, 2]), [1, 3], [1,2,3,4])"
   ],
   "outputs": [],
   "metadata": {}
  },
  {
   "cell_type": "code",
   "execution_count": null,
   "source": [
    "# Generate the symbolic rigidity matrix with symbol v\r\n",
    "f3.symbolicRigidityMatrix('v')"
   ],
   "outputs": [],
   "metadata": {}
  },
  {
   "cell_type": "code",
   "execution_count": null,
   "source": [
    "# Calculate the space of non-trivial flexes\r\n",
    "flex = f3.nonTrivialFlex()"
   ],
   "outputs": [],
   "metadata": {}
  },
  {
   "cell_type": "code",
   "execution_count": null,
   "source": [
    "%matplotlib widget\r\n",
    "# Draw the framework with flexes\r\n",
    "A = f3.draw(labels=True, fmt='-r' ,VKwargs={'alpha' : 0.7, 'c':'blue'}, EKwargs={'alpha' : 0.5})\r\n",
    "B = f3.drawFlex(flex*-0.7,fig=A)"
   ],
   "outputs": [],
   "metadata": {}
  },
  {
   "cell_type": "code",
   "execution_count": null,
   "source": [
    "%matplotlib widget\r\n",
    "# Draw the split framework\r\n",
    "C = f3_2.draw(labels=True, fmt='-b' ,EKwargs={'alpha' : 0.7, 'c':'red'})"
   ],
   "outputs": [],
   "metadata": {}
  },
  {
   "cell_type": "markdown",
   "source": [
    "## Classical Framework in 2D"
   ],
   "metadata": {}
  },
  {
   "cell_type": "code",
   "execution_count": null,
   "source": [
    "verts = [0,1,2,3]\r\n",
    "edges = {\r\n",
    "    0: [1, 2],\r\n",
    "    1: [0, 2, 3],\r\n",
    "    2: [0, 1, 3],\r\n",
    "    3: [1, 2]\r\n",
    "}\r\n",
    "G = [verts, edges]\r\n",
    "\r\n",
    "r1 = np.array([0, 0])\r\n",
    "r2 = np.array([1, 0])\r\n",
    "r3 = np.array([0, 1])\r\n",
    "r4 = np.array([1, 1])\r\n",
    "P = np.column_stack([r1, r2, r3, r4])\r\n",
    "\r\n",
    "f4 = rigidity.Framework(G, P)"
   ],
   "outputs": [],
   "metadata": {}
  },
  {
   "cell_type": "code",
   "execution_count": null,
   "source": [
    "F = f4.draw(labels=True)"
   ],
   "outputs": [],
   "metadata": {}
  }
 ],
 "metadata": {
  "interpreter": {
   "hash": "12524c2f6cf4a5b8bb2aee4aaa408d284f273fcd894d46d1287f258afb38f018"
  },
  "kernelspec": {
   "name": "python3",
   "display_name": "Python 3.9.5 64-bit ('laidlaw': conda)"
  },
  "language_info": {
   "codemirror_mode": {
    "name": "ipython",
    "version": 3
   },
   "file_extension": ".py",
   "mimetype": "text/x-python",
   "name": "python",
   "nbconvert_exporter": "python",
   "pygments_lexer": "ipython3",
   "version": "3.9.5"
  }
 },
 "nbformat": 4,
 "nbformat_minor": 2
}