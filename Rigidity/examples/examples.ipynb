{
 "cells": [
  {
   "cell_type": "markdown",
   "source": [
    "# Rigidty Examples\r\n",
    "\r\n",
    "In this notebook, we will be exploring the rigidity.py module\r\n"
   ],
   "metadata": {}
  },
  {
   "cell_type": "code",
   "execution_count": 2,
   "source": [
    "import sys\r\n",
    "sys.path.append('..')\r\n",
    "from math import sin, cos, pi\r\n",
    "import numpy as np\r\n",
    "import rigidity"
   ],
   "outputs": [],
   "metadata": {}
  },
  {
   "cell_type": "code",
   "execution_count": 61,
   "source": [
    "import importlib\r\n",
    "importlib.reload(rigidity)"
   ],
   "outputs": [
    {
     "output_type": "execute_result",
     "data": {
      "text/plain": [
       "<module 'rigidity' from 'c:\\\\Users\\\\josep\\\\OneDrive - University of St Andrews\\\\Documents\\\\St Andrews\\\\Laidlaw\\\\GitHub\\\\laidlaw-origami\\\\rigidity\\\\examples\\\\..\\\\rigidity.py'>"
      ]
     },
     "metadata": {},
     "execution_count": 61
    }
   ],
   "metadata": {}
  },
  {
   "cell_type": "markdown",
   "source": [
    "## Four vertex example"
   ],
   "metadata": {}
  },
  {
   "cell_type": "code",
   "execution_count": 55,
   "source": [
    "# Define translations for the affine transformation\r\n",
    "l1 = np.array([0,0,3])\r\n",
    "l2 = np.array([0,0,10])\r\n",
    "\r\n",
    "# Define the rotations for the affine transformations\r\n",
    "theta1 = pi/6\r\n",
    "theta2 = pi/20\r\n",
    "\r\n",
    "S1 = np.array([\r\n",
    "    [cos(theta1), -sin(theta1), 0],\r\n",
    "    [sin(theta1), cos(theta1), 0],\r\n",
    "    [0, 0, 1]])\r\n",
    "\r\n",
    "S2 = np.array([\r\n",
    "    [cos(theta2), -sin(theta2), 0],\r\n",
    "    [sin(theta2), cos(theta2), 0],\r\n",
    "    [0, 0, 1]])\r\n",
    "\r\n",
    "T1 = rigidity.AffineTransform(S1, l1)\r\n",
    "T2 = rigidity.AffineTransform(S2, l2)\r\n",
    "\r\n",
    "# Define the vertices and edge markings for the graph\r\n",
    "verts = [0, 1, 2, 3]\r\n",
    "edges = {\r\n",
    "    0: [(1, 0, 0), (2, 0, 0), (3, 0, 0)],\r\n",
    "    1: [(0, 1, 0), (2, 1, 0), (3, 0, 0)],\r\n",
    "    2: [(0, 0, 1), (1, 0, 1), (3, 0, 0)],\r\n",
    "    3: [(0, 1, 1), (1, 0, 1), (2, 1, 0)]\r\n",
    "}\r\n",
    "G = [verts, edges]\r\n",
    "\r\n",
    "# Define the 'base' framework\r\n",
    "r1 = np.array([[2, 0, 0]]).transpose()\r\n",
    "r2 = np.array([[3, 2, 1]]).transpose()\r\n",
    "r3 = np.array([[4, 0, 2]]).transpose()\r\n",
    "r4 = np.array([[5, 2, 3]]).transpose()\r\n",
    "P = np.column_stack([r1, r2, r3, r4])\r\n",
    "\r\n",
    "# Define the number of group elements to create\r\n",
    "n = (24, 2)\r\n",
    "\r\n",
    "# Create the framework\r\n",
    "f1 = rigidity.ScrewFramework(G, P, T1, T2)\r\n"
   ],
   "outputs": [],
   "metadata": {}
  },
  {
   "cell_type": "code",
   "execution_count": 108,
   "source": [
    "# Create the rigidity matrix\r\n",
    "R = f1.rigidityMatrix()"
   ],
   "outputs": [
    {
     "output_type": "execute_result",
     "data": {
      "text/plain": [
       "array([[  1.     ,   2.     ,   1.     ,  -1.     ,  -2.     ,  -1.     ,\n",
       "          0.     ,   0.     ,   0.     ,   0.     ,   0.     ,   0.     ],\n",
       "       [  2.     ,   0.     ,   2.     ,   0.     ,   0.     ,   0.     ,\n",
       "         -2.     ,   0.     ,  -2.     ,   0.     ,   0.     ,   0.     ],\n",
       "       [  3.     ,   2.     ,   3.     ,   0.     ,   0.     ,   0.     ,\n",
       "          0.     ,   0.     ,   0.     ,  -3.     ,  -2.     ,  -3.     ],\n",
       "       [  1.59808,   0.23205,  -2.     ,  -1.26795,  -1.     ,   2.     ,\n",
       "          0.     ,   0.     ,   0.     ,   0.     ,   0.     ,   0.     ],\n",
       "       [  0.     ,   0.     ,   0.     ,   0.4641 ,  -0.     ,   4.     ,\n",
       "         -0.40192,   0.23205,  -4.     ,   0.     ,   0.     ,   0.     ],\n",
       "       [  0.     ,   0.     ,   0.     ,   2.     ,   0.     ,   2.     ,\n",
       "          0.     ,   0.     ,   0.     ,  -2.     ,   0.     ,  -2.     ],\n",
       "       [  1.95075,  -0.62574,  -8.     ,   0.     ,   0.     ,   0.     ,\n",
       "         -2.02462,   0.31287,   8.     ,   0.     ,   0.     ,   0.     ],\n",
       "       [  0.     ,   0.     ,   0.     ,   0.95075,  -2.62574,  -9.     ,\n",
       "         -1.3498 ,   2.44468,   9.     ,   0.     ,   0.     ,   0.     ],\n",
       "       [  0.     ,   0.     ,   0.     ,   0.     ,   0.     ,   0.     ,\n",
       "          1.     ,   2.     ,   1.     ,  -1.     ,  -2.     ,  -1.     ],\n",
       "       [  3.14437,  -1.59231, -10.     ,   0.     ,   0.     ,   0.     ,\n",
       "          0.     ,   0.     ,   0.     ,  -3.44571,  -0.74136,  10.     ],\n",
       "       [  0.     ,   0.     ,   0.     ,   2.25131,  -0.8068 ,  -8.     ,\n",
       "          0.     ,   0.     ,   0.     ,  -2.3498 ,   0.44468,   8.     ],\n",
       "       [  0.     ,   0.     ,   0.     ,   0.     ,   0.     ,   0.     ,\n",
       "          1.33013,  -0.76795,  -2.     ,  -1.5359 ,  -0.     ,   2.     ]])"
      ]
     },
     "metadata": {},
     "execution_count": 108
    }
   ],
   "metadata": {}
  },
  {
   "cell_type": "code",
   "execution_count": 29,
   "source": [
    "%matplotlib widget\r\n",
    "f1.draw(n)"
   ],
   "outputs": [
    {
     "output_type": "display_data",
     "data": {
      "text/plain": [
       "Canvas(toolbar=Toolbar(toolitems=[('Home', 'Reset original view', 'home', 'home'), ('Back', 'Back to previous …"
      ],
      "application/vnd.jupyter.widget-view+json": {
       "version_major": 2,
       "version_minor": 0,
       "model_id": "7341d3c94574461f8782e967934ddde2"
      }
     },
     "metadata": {}
    }
   ],
   "metadata": {}
  },
  {
   "cell_type": "markdown",
   "source": [
    "## One vertex example"
   ],
   "metadata": {}
  },
  {
   "cell_type": "code",
   "execution_count": 32,
   "source": [
    "verts = [0]\r\n",
    "edges = {0: [(0, 0, 1), (0, 1, 0), (0, 1, 1)]}\r\n",
    "G = [verts, edges]\r\n",
    "\r\n",
    "r1 = np.array([1, 0, 0])\r\n",
    "P = np.column_stack([r1])\r\n",
    "\r\n",
    "n = (24, 2)\r\n",
    "f2 = rigidity.ScrewFramework(G, P, T1, T2)"
   ],
   "outputs": [],
   "metadata": {}
  },
  {
   "cell_type": "code",
   "execution_count": 33,
   "source": [
    "from sympy import Matrix\r\n",
    "R2 = f2.rigidityMatrix()\r\n",
    "R2"
   ],
   "outputs": [
    {
     "output_type": "execute_result",
     "data": {
      "text/plain": [
       "array([[-2.46233188e-02,  2.77555756e-17,  0.00000000e+00],\n",
       "       [-2.67949192e-01,  5.55111512e-17,  0.00000000e+00],\n",
       "       [-4.45708077e-01,  1.11022302e-16,  0.00000000e+00]])"
      ]
     },
     "metadata": {},
     "execution_count": 33
    }
   ],
   "metadata": {}
  },
  {
   "cell_type": "code",
   "execution_count": 34,
   "source": [
    "import scipy.linalg\r\n",
    "scipy.linalg.null_space(R2)"
   ],
   "outputs": [
    {
     "output_type": "execute_result",
     "data": {
      "text/plain": [
       "array([[2.3995217e-16, 0.0000000e+00],\n",
       "       [1.0000000e+00, 0.0000000e+00],\n",
       "       [0.0000000e+00, 1.0000000e+00]])"
      ]
     },
     "metadata": {},
     "execution_count": 34
    }
   ],
   "metadata": {}
  },
  {
   "cell_type": "code",
   "execution_count": 35,
   "source": [
    "f2.draw(((24,3)))"
   ],
   "outputs": [
    {
     "output_type": "display_data",
     "data": {
      "text/plain": [
       "Canvas(toolbar=Toolbar(toolitems=[('Home', 'Reset original view', 'home', 'home'), ('Back', 'Back to previous …"
      ],
      "application/vnd.jupyter.widget-view+json": {
       "version_major": 2,
       "version_minor": 0,
       "model_id": "41c8568034664be890ec681f1c7b7988"
      }
     },
     "metadata": {}
    }
   ],
   "metadata": {}
  },
  {
   "cell_type": "markdown",
   "source": [
    "## Clasical Framework in 3D"
   ],
   "metadata": {}
  },
  {
   "cell_type": "code",
   "execution_count": 73,
   "source": [
    "verts = [0,1,2,3]\r\n",
    "edges = {\r\n",
    "    0: [1, 2],\r\n",
    "    1: [0, 2, 3],\r\n",
    "    2: [0, 1, 3],\r\n",
    "    3: [1, 2]\r\n",
    "}\r\n",
    "G = [verts, edges]\r\n",
    "\r\n",
    "r1 = np.array([0, 0, 0])\r\n",
    "r2 = np.array([1, 0, 0])\r\n",
    "r3 = np.array([0, 1, 0])\r\n",
    "r4 = np.array([0, 0, 1])\r\n",
    "P = np.column_stack([r1, r2, r3, r4])\r\n",
    "\r\n",
    "f3 = rigidity.Framework(G, P)"
   ],
   "outputs": [],
   "metadata": {}
  },
  {
   "cell_type": "code",
   "execution_count": 74,
   "source": [
    "f3.rigidityMatrix()"
   ],
   "outputs": [
    {
     "output_type": "execute_result",
     "data": {
      "text/plain": [
       "array([[-1.,  0.,  0.,  1.,  0.,  0.,  0.,  0.,  0.,  0.,  0.,  0.],\n",
       "       [ 0., -1.,  0.,  0.,  0.,  0.,  0.,  1.,  0.,  0.,  0.,  0.],\n",
       "       [ 0.,  0.,  0.,  1., -1.,  0., -1.,  1.,  0.,  0.,  0.,  0.],\n",
       "       [ 0.,  0.,  0.,  1.,  0., -1.,  0.,  0.,  0., -1.,  0.,  1.],\n",
       "       [ 0.,  0.,  0.,  0.,  0.,  0.,  0.,  1., -1.,  0., -1.,  1.]])"
      ]
     },
     "metadata": {},
     "execution_count": 74
    }
   ],
   "metadata": {}
  },
  {
   "cell_type": "code",
   "execution_count": 75,
   "source": [
    "f3.symbolicRigidityMatrix('v')"
   ],
   "outputs": [
    {
     "output_type": "execute_result",
     "data": {
      "text/plain": [
       "Matrix([\n",
       "[v_0,0 - v_1,0, v_0,1 - v_1,1, v_0,2 - v_1,2, -v_0,0 + v_1,0, -v_0,1 + v_1,1, -v_0,2 + v_1,2,              0,              0,              0,              0,              0,              0],\n",
       "[v_0,0 - v_2,0, v_0,1 - v_2,1, v_0,2 - v_2,2,              0,              0,              0, -v_0,0 + v_2,0, -v_0,1 + v_2,1, -v_0,2 + v_2,2,              0,              0,              0],\n",
       "[            0,             0,             0,  v_1,0 - v_2,0,  v_1,1 - v_2,1,  v_1,2 - v_2,2, -v_1,0 + v_2,0, -v_1,1 + v_2,1, -v_1,2 + v_2,2,              0,              0,              0],\n",
       "[            0,             0,             0,  v_1,0 - v_3,0,  v_1,1 - v_3,1,  v_1,2 - v_3,2,              0,              0,              0, -v_1,0 + v_3,0, -v_1,1 + v_3,1, -v_1,2 + v_3,2],\n",
       "[            0,             0,             0,              0,              0,              0,  v_2,0 - v_3,0,  v_2,1 - v_3,1,  v_2,2 - v_3,2, -v_2,0 + v_3,0, -v_2,1 + v_3,1, -v_2,2 + v_3,2]])"
      ],
      "text/latex": [
       "$\\displaystyle \\left[\\begin{array}{cccccccccccc}v_{0,0} - v_{1,0} & v_{0,1} - v_{1,1} & v_{0,2} - v_{1,2} & - v_{0,0} + v_{1,0} & - v_{0,1} + v_{1,1} & - v_{0,2} + v_{1,2} & 0 & 0 & 0 & 0 & 0 & 0\\\\v_{0,0} - v_{2,0} & v_{0,1} - v_{2,1} & v_{0,2} - v_{2,2} & 0 & 0 & 0 & - v_{0,0} + v_{2,0} & - v_{0,1} + v_{2,1} & - v_{0,2} + v_{2,2} & 0 & 0 & 0\\\\0 & 0 & 0 & v_{1,0} - v_{2,0} & v_{1,1} - v_{2,1} & v_{1,2} - v_{2,2} & - v_{1,0} + v_{2,0} & - v_{1,1} + v_{2,1} & - v_{1,2} + v_{2,2} & 0 & 0 & 0\\\\0 & 0 & 0 & v_{1,0} - v_{3,0} & v_{1,1} - v_{3,1} & v_{1,2} - v_{3,2} & 0 & 0 & 0 & - v_{1,0} + v_{3,0} & - v_{1,1} + v_{3,1} & - v_{1,2} + v_{3,2}\\\\0 & 0 & 0 & 0 & 0 & 0 & v_{2,0} - v_{3,0} & v_{2,1} - v_{3,1} & v_{2,2} - v_{3,2} & - v_{2,0} + v_{3,0} & - v_{2,1} + v_{3,1} & - v_{2,2} + v_{3,2}\\end{array}\\right]$"
      ]
     },
     "metadata": {},
     "execution_count": 75
    }
   ],
   "metadata": {}
  },
  {
   "cell_type": "code",
   "execution_count": 76,
   "source": [
    "np.linalg.matrix_rank(f3.rigidityMatrix())"
   ],
   "outputs": [
    {
     "output_type": "execute_result",
     "data": {
      "text/plain": [
       "5"
      ]
     },
     "metadata": {},
     "execution_count": 76
    }
   ],
   "metadata": {}
  },
  {
   "cell_type": "code",
   "execution_count": 77,
   "source": [
    "f3.rigidityMatrix()@f3.nonTrivialFlex()"
   ],
   "outputs": [
    {
     "output_type": "execute_result",
     "data": {
      "text/plain": [
       "array([[1.17961196e-16],\n",
       "       [3.46944695e-17],\n",
       "       [4.85722573e-17],\n",
       "       [0.00000000e+00],\n",
       "       [1.94289029e-16]])"
      ]
     },
     "metadata": {},
     "execution_count": 77
    }
   ],
   "metadata": {}
  },
  {
   "cell_type": "code",
   "execution_count": 50,
   "source": [
    "%matplotlib widget\r\n",
    "f3.draw()"
   ],
   "outputs": [
    {
     "output_type": "display_data",
     "data": {
      "text/plain": [
       "Canvas(toolbar=Toolbar(toolitems=[('Home', 'Reset original view', 'home', 'home'), ('Back', 'Back to previous …"
      ],
      "application/vnd.jupyter.widget-view+json": {
       "version_major": 2,
       "version_minor": 0,
       "model_id": "9bd2096aa95a479dafe026aa73464db2"
      }
     },
     "metadata": {}
    }
   ],
   "metadata": {}
  },
  {
   "cell_type": "markdown",
   "source": [
    "## Classical Framework in 2D"
   ],
   "metadata": {}
  },
  {
   "cell_type": "code",
   "execution_count": 78,
   "source": [
    "verts = [0,1,2,3]\r\n",
    "edges = {\r\n",
    "    0: [1, 2],\r\n",
    "    1: [0, 2, 3],\r\n",
    "    2: [0, 1, 3],\r\n",
    "    3: [1, 2]\r\n",
    "}\r\n",
    "G = [verts, edges]\r\n",
    "\r\n",
    "r1 = np.array([0, 0])\r\n",
    "r2 = np.array([1, 0])\r\n",
    "r3 = np.array([0, 1])\r\n",
    "r4 = np.array([1, 1])\r\n",
    "P = np.column_stack([r1, r2, r3, r4])\r\n",
    "\r\n",
    "f4 = rigidity.Framework(G, P)"
   ],
   "outputs": [],
   "metadata": {}
  },
  {
   "cell_type": "code",
   "execution_count": 79,
   "source": [
    "f4.rigidityMatrix()"
   ],
   "outputs": [
    {
     "output_type": "execute_result",
     "data": {
      "text/plain": [
       "array([[-1.,  0.,  1.,  0.,  0.,  0.,  0.,  0.],\n",
       "       [ 0., -1.,  0.,  0.,  0.,  1.,  0.,  0.],\n",
       "       [ 0.,  0.,  1., -1., -1.,  1.,  0.,  0.],\n",
       "       [ 0.,  0.,  0., -1.,  0.,  0.,  0.,  1.],\n",
       "       [ 0.,  0.,  0.,  0., -1.,  0.,  1.,  0.]])"
      ]
     },
     "metadata": {},
     "execution_count": 79
    }
   ],
   "metadata": {}
  },
  {
   "cell_type": "code",
   "execution_count": 80,
   "source": [
    "f4.symbolicRigidityMatrix()"
   ],
   "outputs": [
    {
     "output_type": "execute_result",
     "data": {
      "text/plain": [
       "Matrix([\n",
       "[p_0,0 - p_1,0, p_0,1 - p_1,1, -p_0,0 + p_1,0, -p_0,1 + p_1,1,              0,              0,              0,              0],\n",
       "[p_0,0 - p_2,0, p_0,1 - p_2,1,              0,              0, -p_0,0 + p_2,0, -p_0,1 + p_2,1,              0,              0],\n",
       "[            0,             0,  p_1,0 - p_2,0,  p_1,1 - p_2,1, -p_1,0 + p_2,0, -p_1,1 + p_2,1,              0,              0],\n",
       "[            0,             0,  p_1,0 - p_3,0,  p_1,1 - p_3,1,              0,              0, -p_1,0 + p_3,0, -p_1,1 + p_3,1],\n",
       "[            0,             0,              0,              0,  p_2,0 - p_3,0,  p_2,1 - p_3,1, -p_2,0 + p_3,0, -p_2,1 + p_3,1]])"
      ],
      "text/latex": [
       "$\\displaystyle \\left[\\begin{matrix}p_{0,0} - p_{1,0} & p_{0,1} - p_{1,1} & - p_{0,0} + p_{1,0} & - p_{0,1} + p_{1,1} & 0 & 0 & 0 & 0\\\\p_{0,0} - p_{2,0} & p_{0,1} - p_{2,1} & 0 & 0 & - p_{0,0} + p_{2,0} & - p_{0,1} + p_{2,1} & 0 & 0\\\\0 & 0 & p_{1,0} - p_{2,0} & p_{1,1} - p_{2,1} & - p_{1,0} + p_{2,0} & - p_{1,1} + p_{2,1} & 0 & 0\\\\0 & 0 & p_{1,0} - p_{3,0} & p_{1,1} - p_{3,1} & 0 & 0 & - p_{1,0} + p_{3,0} & - p_{1,1} + p_{3,1}\\\\0 & 0 & 0 & 0 & p_{2,0} - p_{3,0} & p_{2,1} - p_{3,1} & - p_{2,0} + p_{3,0} & - p_{2,1} + p_{3,1}\\end{matrix}\\right]$"
      ]
     },
     "metadata": {},
     "execution_count": 80
    }
   ],
   "metadata": {}
  },
  {
   "cell_type": "code",
   "execution_count": 81,
   "source": [
    "f4.rigidityMatrix()@f4.nonTrivialFlex()"
   ],
   "outputs": [
    {
     "output_type": "execute_result",
     "data": {
      "text/plain": [
       "array([[-0.18849996,  0.19477564, -0.17979821],\n",
       "       [-0.19539352,  0.30920077, -0.32806112],\n",
       "       [-0.26761346,  0.05203557, -0.04853017],\n",
       "       [-0.09241538,  0.37603219, -0.93760584],\n",
       "       [-0.00389593,  0.31481855,  0.08590458]])"
      ]
     },
     "metadata": {},
     "execution_count": 81
    }
   ],
   "metadata": {}
  },
  {
   "cell_type": "code",
   "execution_count": 82,
   "source": [
    "import utils\r\n",
    "P = f4.config\r\n",
    "R = f4.rigidityMatrix()\r\n",
    "n = len(P.T)\r\n",
    "d = f4.dimension\r\n",
    "\r\n",
    "translations = []\r\n",
    "for i in range(d):\r\n",
    "    translation = np.zeros(d*n)\r\n",
    "    translation[i::d] = 1\r\n",
    "    translations.append(translation)\r\n",
    "trivials = np.column_stack(translations)\r\n",
    "\r\n",
    "rotations = utils.infRotations(d)\r\n",
    "for rotMat in rotations:\r\n",
    "    infRot = (rotMat@P).ravel('F')\r\n",
    "    trivials = np.column_stack([trivials, infRot])"
   ],
   "outputs": [],
   "metadata": {}
  },
  {
   "cell_type": "code",
   "execution_count": 105,
   "source": [
    "K = scipy.linalg.null_space(R) # Tollerence on orth is wack"
   ],
   "outputs": [],
   "metadata": {}
  },
  {
   "cell_type": "code",
   "execution_count": 106,
   "source": [
    "f4.draw()"
   ],
   "outputs": [
    {
     "output_type": "display_data",
     "data": {
      "text/plain": [
       "Canvas(toolbar=Toolbar(toolitems=[('Home', 'Reset original view', 'home', 'home'), ('Back', 'Back to previous …"
      ],
      "application/vnd.jupyter.widget-view+json": {
       "version_major": 2,
       "version_minor": 0,
       "model_id": "92426ce273f04386a7f1f527733a6404"
      }
     },
     "metadata": {}
    }
   ],
   "metadata": {}
  }
 ],
 "metadata": {
  "interpreter": {
   "hash": "12524c2f6cf4a5b8bb2aee4aaa408d284f273fcd894d46d1287f258afb38f018"
  },
  "kernelspec": {
   "name": "python3",
   "display_name": "Python 3.9.5 64-bit ('laidlaw': conda)"
  },
  "language_info": {
   "codemirror_mode": {
    "name": "ipython",
    "version": 3
   },
   "file_extension": ".py",
   "mimetype": "text/x-python",
   "name": "python",
   "nbconvert_exporter": "python",
   "pygments_lexer": "ipython3",
   "version": "3.9.5"
  }
 },
 "nbformat": 4,
 "nbformat_minor": 2
}