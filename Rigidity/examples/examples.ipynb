{
 "cells": [
  {
   "cell_type": "markdown",
   "source": [
    "# Rigidty Examples\r\n",
    "\r\n",
    "In this notebook, we will be exploring the rigidity.py module\r\n"
   ],
   "metadata": {}
  },
  {
   "cell_type": "code",
   "execution_count": 1,
   "source": [
    "import sys\r\n",
    "sys.path.append('..')\r\n",
    "from math import sin, cos, pi\r\n",
    "import numpy as np\r\n",
    "import rigidity"
   ],
   "outputs": [],
   "metadata": {}
  },
  {
   "cell_type": "code",
   "execution_count": 118,
   "source": [
    "import importlib\r\n",
    "importlib.reload(rigidity)"
   ],
   "outputs": [
    {
     "output_type": "execute_result",
     "data": {
      "text/plain": [
       "<module 'rigidity' from 'c:\\\\Users\\\\josep\\\\OneDrive - University of St Andrews\\\\Documents\\\\St Andrews\\\\Laidlaw\\\\GitHub\\\\laidlaw-origami\\\\rigidity\\\\examples\\\\..\\\\rigidity.py'>"
      ]
     },
     "metadata": {},
     "execution_count": 118
    }
   ],
   "metadata": {}
  },
  {
   "cell_type": "markdown",
   "source": [
    "## Four vertex example"
   ],
   "metadata": {}
  },
  {
   "cell_type": "code",
   "execution_count": 2,
   "source": [
    "# Define translations for the affine transformation\r\n",
    "l1 = np.array([0,0,3])\r\n",
    "l2 = np.array([0,0,10])\r\n",
    "\r\n",
    "# Define the rotations for the affine transformations\r\n",
    "theta1 = pi/6\r\n",
    "theta2 = pi/20\r\n",
    "\r\n",
    "S1 = np.array([\r\n",
    "    [cos(theta1), -sin(theta1), 0],\r\n",
    "    [sin(theta1), cos(theta1), 0],\r\n",
    "    [0, 0, 1]])\r\n",
    "\r\n",
    "S2 = np.array([\r\n",
    "    [cos(theta2), -sin(theta2), 0],\r\n",
    "    [sin(theta2), cos(theta2), 0],\r\n",
    "    [0, 0, 1]])\r\n",
    "\r\n",
    "T1 = rigidity.AffineTransform(S1, l1)\r\n",
    "T2 = rigidity.AffineTransform(S2, l2)\r\n",
    "\r\n",
    "# Define the vertices and edge markings for the graph\r\n",
    "verts = [0, 1, 2, 3]\r\n",
    "edges = {\r\n",
    "    0: [(1, 0, 0), (2, 0, 0), (3, 0, 0)],\r\n",
    "    1: [(0, 1, 0), (2, 1, 0), (3, 0, 0)],\r\n",
    "    2: [(0, 0, 1), (1, 0, 1), (3, 0, 0)],\r\n",
    "    3: [(0, 1, 1), (1, 0, 1), (2, 1, 0)]\r\n",
    "}\r\n",
    "G = [verts, edges]\r\n",
    "\r\n",
    "# Define the 'base' framework\r\n",
    "r1 = np.array([[2, 0, 0]]).transpose()\r\n",
    "r2 = np.array([[3, 2, 1]]).transpose()\r\n",
    "r3 = np.array([[4, 0, 2]]).transpose()\r\n",
    "r4 = np.array([[5, 2, 3]]).transpose()\r\n",
    "P = np.column_stack([r1, r2, r3, r4])\r\n",
    "\r\n",
    "# Define the number of group elements to create\r\n",
    "n = (24, 2)\r\n",
    "\r\n",
    "# Create the framework\r\n",
    "f1 = rigidity.ScrewFramework(G, P, T1, T2)\r\n"
   ],
   "outputs": [],
   "metadata": {}
  },
  {
   "cell_type": "code",
   "execution_count": 136,
   "source": [
    "# Create the rigidity matrix\r\n",
    "R = f1.rigidityMatrix()"
   ],
   "outputs": [],
   "metadata": {}
  },
  {
   "cell_type": "code",
   "execution_count": 3,
   "source": [
    "%matplotlib widget\r\n",
    "A = f1.draw(n, EKwargs={'alpha':0.2})"
   ],
   "outputs": [
    {
     "output_type": "display_data",
     "data": {
      "text/plain": [
       "Canvas(toolbar=Toolbar(toolitems=[('Home', 'Reset original view', 'home', 'home'), ('Back', 'Back to previous …"
      ],
      "application/vnd.jupyter.widget-view+json": {
       "version_major": 2,
       "version_minor": 0,
       "model_id": "acbf500e3ef34fddb9dea8bce3cabaa2"
      }
     },
     "metadata": {}
    }
   ],
   "metadata": {}
  },
  {
   "cell_type": "markdown",
   "source": [
    "## One vertex example"
   ],
   "metadata": {}
  },
  {
   "cell_type": "code",
   "execution_count": 4,
   "source": [
    "verts = [0]\r\n",
    "edges = {0: [(0, 0, 1), (0, 1, 0), (0, 1, 1)]}\r\n",
    "G = [verts, edges]\r\n",
    "\r\n",
    "r1 = np.array([1, 0, 0])\r\n",
    "P = np.column_stack([r1])\r\n",
    "\r\n",
    "n = (24, 2)\r\n",
    "f2 = rigidity.ScrewFramework(G, P, T1, T2)"
   ],
   "outputs": [],
   "metadata": {}
  },
  {
   "cell_type": "code",
   "execution_count": 139,
   "source": [
    "R2 = f2.rigidityMatrix()"
   ],
   "outputs": [],
   "metadata": {}
  },
  {
   "cell_type": "code",
   "execution_count": 9,
   "source": [
    "F = f2.draw((2,2), VKwargs={'c':'red'}, EKwargs={'c':'green', 'alpha':0.7})"
   ],
   "outputs": [
    {
     "output_type": "display_data",
     "data": {
      "text/plain": [
       "Canvas(toolbar=Toolbar(toolitems=[('Home', 'Reset original view', 'home', 'home'), ('Back', 'Back to previous …"
      ],
      "application/vnd.jupyter.widget-view+json": {
       "version_major": 2,
       "version_minor": 0,
       "model_id": "b6f15103beb54d8aa87302563f4885cd"
      }
     },
     "metadata": {}
    }
   ],
   "metadata": {}
  },
  {
   "cell_type": "markdown",
   "source": [
    "## Clasical Framework in 3D"
   ],
   "metadata": {}
  },
  {
   "cell_type": "code",
   "execution_count": 10,
   "source": [
    "verts = [0,1,2,3]\r\n",
    "edges = {\r\n",
    "    0: [1, 2],\r\n",
    "    1: [0, 2, 3],\r\n",
    "    2: [0, 1, 3],\r\n",
    "    3: [1, 2]\r\n",
    "}\r\n",
    "G = [verts, edges]\r\n",
    "\r\n",
    "r1 = np.array([0, 0, 0])\r\n",
    "r2 = np.array([1, 0, 0])\r\n",
    "r3 = np.array([0, 1, 0])\r\n",
    "r4 = np.array([0, 0, 1])\r\n",
    "P = np.column_stack([r1, r2, r3, r4])\r\n",
    "\r\n",
    "f3 = rigidity.Framework(G, P)"
   ],
   "outputs": [],
   "metadata": {}
  },
  {
   "cell_type": "code",
   "execution_count": 142,
   "source": [
    "f3.rigidityMatrix()"
   ],
   "outputs": [
    {
     "output_type": "execute_result",
     "data": {
      "text/plain": [
       "array([[-1.,  0.,  0.,  1.,  0.,  0.,  0.,  0.,  0.,  0.,  0.,  0.],\n",
       "       [ 0., -1.,  0.,  0.,  0.,  0.,  0.,  1.,  0.,  0.,  0.,  0.],\n",
       "       [ 0.,  0.,  0.,  1., -1.,  0., -1.,  1.,  0.,  0.,  0.,  0.],\n",
       "       [ 0.,  0.,  0.,  1.,  0., -1.,  0.,  0.,  0., -1.,  0.,  1.],\n",
       "       [ 0.,  0.,  0.,  0.,  0.,  0.,  0.,  1., -1.,  0., -1.,  1.]])"
      ]
     },
     "metadata": {},
     "execution_count": 142
    }
   ],
   "metadata": {}
  },
  {
   "cell_type": "code",
   "execution_count": 143,
   "source": [
    "f3.symbolicRigidityMatrix('v')"
   ],
   "outputs": [
    {
     "output_type": "execute_result",
     "data": {
      "text/plain": [
       "Matrix([\n",
       "[v_0,0 - v_1,0, v_0,1 - v_1,1, v_0,2 - v_1,2, -v_0,0 + v_1,0, -v_0,1 + v_1,1, -v_0,2 + v_1,2,              0,              0,              0,              0,              0,              0],\n",
       "[v_0,0 - v_2,0, v_0,1 - v_2,1, v_0,2 - v_2,2,              0,              0,              0, -v_0,0 + v_2,0, -v_0,1 + v_2,1, -v_0,2 + v_2,2,              0,              0,              0],\n",
       "[            0,             0,             0,  v_1,0 - v_2,0,  v_1,1 - v_2,1,  v_1,2 - v_2,2, -v_1,0 + v_2,0, -v_1,1 + v_2,1, -v_1,2 + v_2,2,              0,              0,              0],\n",
       "[            0,             0,             0,  v_1,0 - v_3,0,  v_1,1 - v_3,1,  v_1,2 - v_3,2,              0,              0,              0, -v_1,0 + v_3,0, -v_1,1 + v_3,1, -v_1,2 + v_3,2],\n",
       "[            0,             0,             0,              0,              0,              0,  v_2,0 - v_3,0,  v_2,1 - v_3,1,  v_2,2 - v_3,2, -v_2,0 + v_3,0, -v_2,1 + v_3,1, -v_2,2 + v_3,2]])"
      ],
      "text/latex": [
       "$\\displaystyle \\left[\\begin{array}{cccccccccccc}v_{0,0} - v_{1,0} & v_{0,1} - v_{1,1} & v_{0,2} - v_{1,2} & - v_{0,0} + v_{1,0} & - v_{0,1} + v_{1,1} & - v_{0,2} + v_{1,2} & 0 & 0 & 0 & 0 & 0 & 0\\\\v_{0,0} - v_{2,0} & v_{0,1} - v_{2,1} & v_{0,2} - v_{2,2} & 0 & 0 & 0 & - v_{0,0} + v_{2,0} & - v_{0,1} + v_{2,1} & - v_{0,2} + v_{2,2} & 0 & 0 & 0\\\\0 & 0 & 0 & v_{1,0} - v_{2,0} & v_{1,1} - v_{2,1} & v_{1,2} - v_{2,2} & - v_{1,0} + v_{2,0} & - v_{1,1} + v_{2,1} & - v_{1,2} + v_{2,2} & 0 & 0 & 0\\\\0 & 0 & 0 & v_{1,0} - v_{3,0} & v_{1,1} - v_{3,1} & v_{1,2} - v_{3,2} & 0 & 0 & 0 & - v_{1,0} + v_{3,0} & - v_{1,1} + v_{3,1} & - v_{1,2} + v_{3,2}\\\\0 & 0 & 0 & 0 & 0 & 0 & v_{2,0} - v_{3,0} & v_{2,1} - v_{3,1} & v_{2,2} - v_{3,2} & - v_{2,0} + v_{3,0} & - v_{2,1} + v_{3,1} & - v_{2,2} + v_{3,2}\\end{array}\\right]$"
      ]
     },
     "metadata": {},
     "execution_count": 143
    }
   ],
   "metadata": {}
  },
  {
   "cell_type": "code",
   "execution_count": 144,
   "source": [
    "np.linalg.matrix_rank(f3.rigidityMatrix())"
   ],
   "outputs": [
    {
     "output_type": "execute_result",
     "data": {
      "text/plain": [
       "5"
      ]
     },
     "metadata": {},
     "execution_count": 144
    }
   ],
   "metadata": {}
  },
  {
   "cell_type": "code",
   "execution_count": 15,
   "source": [
    "flex = f3.nonTrivialFlex()"
   ],
   "outputs": [],
   "metadata": {}
  },
  {
   "cell_type": "code",
   "execution_count": 12,
   "source": [
    "%matplotlib widget\r\n",
    "A = f3.draw(labels=True, fmt='--b' ,EKwargs={'alpha' : 0.7, 'c':'red'})"
   ],
   "outputs": [
    {
     "output_type": "display_data",
     "data": {
      "text/plain": [
       "Canvas(toolbar=Toolbar(toolitems=[('Home', 'Reset original view', 'home', 'home'), ('Back', 'Back to previous …"
      ],
      "application/vnd.jupyter.widget-view+json": {
       "version_major": 2,
       "version_minor": 0,
       "model_id": "b2b3c4579b5444b4a01b843d345213c4"
      }
     },
     "metadata": {}
    }
   ],
   "metadata": {}
  },
  {
   "cell_type": "code",
   "execution_count": 18,
   "source": [
    "A = f3.drawFlex(flex)"
   ],
   "outputs": [
    {
     "output_type": "display_data",
     "data": {
      "text/plain": [
       "Canvas(toolbar=Toolbar(toolitems=[('Home', 'Reset original view', 'home', 'home'), ('Back', 'Back to previous …"
      ],
      "application/vnd.jupyter.widget-view+json": {
       "version_major": 2,
       "version_minor": 0,
       "model_id": "6bb227d6578d4142ac78e05e39b2f3f6"
      }
     },
     "metadata": {}
    }
   ],
   "metadata": {}
  },
  {
   "cell_type": "markdown",
   "source": [
    "## Classical Framework in 2D"
   ],
   "metadata": {}
  },
  {
   "cell_type": "code",
   "execution_count": 13,
   "source": [
    "verts = [0,1,2,3]\r\n",
    "edges = {\r\n",
    "    0: [1, 2],\r\n",
    "    1: [0, 2, 3],\r\n",
    "    2: [0, 1, 3],\r\n",
    "    3: [1, 2]\r\n",
    "}\r\n",
    "G = [verts, edges]\r\n",
    "\r\n",
    "r1 = np.array([0, 0])\r\n",
    "r2 = np.array([1, 0])\r\n",
    "r3 = np.array([0, 1])\r\n",
    "r4 = np.array([1, 1])\r\n",
    "P = np.column_stack([r1, r2, r3, r4])\r\n",
    "\r\n",
    "f4 = rigidity.Framework(G, P)"
   ],
   "outputs": [],
   "metadata": {}
  },
  {
   "cell_type": "code",
   "execution_count": 148,
   "source": [
    "f4.rigidityMatrix()"
   ],
   "outputs": [
    {
     "output_type": "execute_result",
     "data": {
      "text/plain": [
       "array([[-1.,  0.,  1.,  0.,  0.,  0.,  0.,  0.],\n",
       "       [ 0., -1.,  0.,  0.,  0.,  1.,  0.,  0.],\n",
       "       [ 0.,  0.,  1., -1., -1.,  1.,  0.,  0.],\n",
       "       [ 0.,  0.,  0., -1.,  0.,  0.,  0.,  1.],\n",
       "       [ 0.,  0.,  0.,  0., -1.,  0.,  1.,  0.]])"
      ]
     },
     "metadata": {},
     "execution_count": 148
    }
   ],
   "metadata": {}
  },
  {
   "cell_type": "code",
   "execution_count": 149,
   "source": [
    "f4.symbolicRigidityMatrix()"
   ],
   "outputs": [
    {
     "output_type": "execute_result",
     "data": {
      "text/plain": [
       "Matrix([\n",
       "[p_0,0 - p_1,0, p_0,1 - p_1,1, -p_0,0 + p_1,0, -p_0,1 + p_1,1,              0,              0,              0,              0],\n",
       "[p_0,0 - p_2,0, p_0,1 - p_2,1,              0,              0, -p_0,0 + p_2,0, -p_0,1 + p_2,1,              0,              0],\n",
       "[            0,             0,  p_1,0 - p_2,0,  p_1,1 - p_2,1, -p_1,0 + p_2,0, -p_1,1 + p_2,1,              0,              0],\n",
       "[            0,             0,  p_1,0 - p_3,0,  p_1,1 - p_3,1,              0,              0, -p_1,0 + p_3,0, -p_1,1 + p_3,1],\n",
       "[            0,             0,              0,              0,  p_2,0 - p_3,0,  p_2,1 - p_3,1, -p_2,0 + p_3,0, -p_2,1 + p_3,1]])"
      ],
      "text/latex": [
       "$\\displaystyle \\left[\\begin{matrix}p_{0,0} - p_{1,0} & p_{0,1} - p_{1,1} & - p_{0,0} + p_{1,0} & - p_{0,1} + p_{1,1} & 0 & 0 & 0 & 0\\\\p_{0,0} - p_{2,0} & p_{0,1} - p_{2,1} & 0 & 0 & - p_{0,0} + p_{2,0} & - p_{0,1} + p_{2,1} & 0 & 0\\\\0 & 0 & p_{1,0} - p_{2,0} & p_{1,1} - p_{2,1} & - p_{1,0} + p_{2,0} & - p_{1,1} + p_{2,1} & 0 & 0\\\\0 & 0 & p_{1,0} - p_{3,0} & p_{1,1} - p_{3,1} & 0 & 0 & - p_{1,0} + p_{3,0} & - p_{1,1} + p_{3,1}\\\\0 & 0 & 0 & 0 & p_{2,0} - p_{3,0} & p_{2,1} - p_{3,1} & - p_{2,0} + p_{3,0} & - p_{2,1} + p_{3,1}\\end{matrix}\\right]$"
      ]
     },
     "metadata": {},
     "execution_count": 149
    }
   ],
   "metadata": {}
  },
  {
   "cell_type": "code",
   "execution_count": 150,
   "source": [
    "f4.nonTrivialFlex()"
   ],
   "outputs": [],
   "metadata": {}
  },
  {
   "cell_type": "code",
   "execution_count": 14,
   "source": [
    "F = f4.draw(labels=True)"
   ],
   "outputs": [
    {
     "output_type": "display_data",
     "data": {
      "text/plain": [
       "Canvas(toolbar=Toolbar(toolitems=[('Home', 'Reset original view', 'home', 'home'), ('Back', 'Back to previous …"
      ],
      "application/vnd.jupyter.widget-view+json": {
       "version_major": 2,
       "version_minor": 0,
       "model_id": "51769ea2f54940458fad9fada24ae389"
      }
     },
     "metadata": {}
    }
   ],
   "metadata": {}
  },
  {
   "cell_type": "code",
   "execution_count": null,
   "source": [],
   "outputs": [],
   "metadata": {}
  }
 ],
 "metadata": {
  "interpreter": {
   "hash": "12524c2f6cf4a5b8bb2aee4aaa408d284f273fcd894d46d1287f258afb38f018"
  },
  "kernelspec": {
   "name": "python3",
   "display_name": "Python 3.9.5 64-bit ('laidlaw': conda)"
  },
  "language_info": {
   "codemirror_mode": {
    "name": "ipython",
    "version": 3
   },
   "file_extension": ".py",
   "mimetype": "text/x-python",
   "name": "python",
   "nbconvert_exporter": "python",
   "pygments_lexer": "ipython3",
   "version": "3.9.5"
  }
 },
 "nbformat": 4,
 "nbformat_minor": 2
}