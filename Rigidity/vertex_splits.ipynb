{
 "cells": [
  {
   "cell_type": "code",
   "execution_count": 1,
   "source": [
    "import rigidity\r\n",
    "import numpy as np\r\n",
    "import matplotlib.pyplot as plt"
   ],
   "outputs": [],
   "metadata": {}
  },
  {
   "cell_type": "code",
   "execution_count": 8,
   "source": [
    "import importlib\r\n",
    "importlib.reload(rigidity)"
   ],
   "outputs": [
    {
     "output_type": "execute_result",
     "data": {
      "text/plain": [
       "<module 'rigidity' from 'c:\\\\Users\\\\josep\\\\OneDrive - University of St Andrews\\\\Documents\\\\St Andrews\\\\Laidlaw\\\\GitHub\\\\laidlaw-origami\\\\rigidity\\\\rigidity.py'>"
      ]
     },
     "metadata": {},
     "execution_count": 8
    }
   ],
   "metadata": {}
  },
  {
   "cell_type": "code",
   "execution_count": 263,
   "source": [
    "from math import log, floor, ceil, sqrt\r\n",
    "def primes(n):\r\n",
    "    if n < 6:\r\n",
    "        return [2,3,5,7,11][:n]\r\n",
    "\r\n",
    "    U = floor(n*(log(n) + log(log(n))))\r\n",
    "    prime = [True]*(U+1)\r\n",
    "    prime[4::2] = [False]*ceil((U-3)/2)\r\n",
    "    for i in range(3, ceil(sqrt(U)), 2):\r\n",
    "        if prime[i]:\r\n",
    "            prime[2*i::i] = [False]*ceil((U + 1 - 2*i)/i)\r\n",
    "    return [i for i in range(U+1) if prime[i]][2:n+2]\r\n"
   ],
   "outputs": [],
   "metadata": {}
  },
  {
   "cell_type": "code",
   "execution_count": 284,
   "source": [
    "prms = np.array(primes(21))\r\n",
    "np.random.shuffle(prms)"
   ],
   "outputs": [],
   "metadata": {}
  },
  {
   "cell_type": "code",
   "execution_count": 316,
   "source": [
    "verts = [0, 1, 2, 3, 4, 5]\r\n",
    "edges = {\r\n",
    "    0: [1, 2, 3, 4],\r\n",
    "    1: [0, 2, 3, 5],\r\n",
    "    2: [0, 1, 4, 5],\r\n",
    "    3: [0, 1, 4, 5],\r\n",
    "    4: [0, 2, 3, 5],\r\n",
    "    5: [1, 2, 3, 4]    \r\n",
    "}\r\n",
    "G = [verts, edges]\r\n",
    "\r\n",
    "coords = prms[:18]\r\n",
    "P = coords.reshape(3,6)\r\n",
    "# P = np.array([\r\n",
    "#     [  0,  1,  1, -1, -1,  0],\r\n",
    "#     [  0,  1, -1,  1, -1,  0],\r\n",
    "#     [  0,  1,  1,  1,  1,  1]\r\n",
    "# ])\r\n",
    "\r\n",
    "f = rigidity.Framework(G,P)\r\n",
    "R = f.rigidityMatrix()"
   ],
   "outputs": [],
   "metadata": {}
  },
  {
   "cell_type": "code",
   "execution_count": 290,
   "source": [
    "verts = [0, 1, 2, 3, 4, 5, 6]\r\n",
    "edges = {\r\n",
    "    0: [1, 2, 3, 4],\r\n",
    "    1: [0, 2, 5, 6],\r\n",
    "    2: [0, 1, 4, 5],\r\n",
    "    3: [0, 4, 6],\r\n",
    "    4: [0, 2, 3, 5],\r\n",
    "    5: [1, 2, 4, 6],\r\n",
    "    6: [1, 3, 5]    \r\n",
    "}\r\n",
    "G = [verts, edges]\r\n",
    "\r\n",
    "v = prms[18:]\r\n",
    "P = np.column_stack([P,v])\r\n",
    "# P = np.array([\r\n",
    "#     [ 0,  1, -1,  1, -1,  0,  2],\r\n",
    "#     [ 0,  1,  1, -1, -1,  0,  2],\r\n",
    "#     [ 0,  4,  4,  4,  4,  8,  6]\r\n",
    "# ])\r\n",
    "\r\n",
    "f0 = rigidity.Framework(G, P)\r\n",
    "R0 = f0.rigidityMatrix()"
   ],
   "outputs": [],
   "metadata": {}
  },
  {
   "cell_type": "code",
   "execution_count": 291,
   "source": [
    "verts = [0, 1, 2, 3, 4, 5, 6]\r\n",
    "edges = {\r\n",
    "    0: [1, 2, 3, 4],\r\n",
    "    1: [0, 2, 5, 6],\r\n",
    "    2: [0, 1, 4, 5],\r\n",
    "    3: [0, 4, 6],\r\n",
    "    4: [0, 2, 3, 5, 6],\r\n",
    "    5: [1, 2, 4, 6],\r\n",
    "    6: [1, 3, 4, 5]    \r\n",
    "}\r\n",
    "G = [verts, edges]\r\n",
    "\r\n",
    "# P = np.array([\r\n",
    "#     [ 0,  1, -1,  1, -1,  0,  0],\r\n",
    "#     [ 0,  1,  1, -1, -1,  0,  0],\r\n",
    "#     [ 0,  4,  4,  4,  4,  8,  4]\r\n",
    "# ])\r\n",
    "\r\n",
    "f1 = rigidity.Framework(G, P)\r\n",
    "R1 = f1.rigidityMatrix()"
   ],
   "outputs": [],
   "metadata": {}
  },
  {
   "cell_type": "code",
   "execution_count": 292,
   "source": [
    "verts = [0, 1, 2, 3, 4, 5, 6]\r\n",
    "edges = {\r\n",
    "    0: [1, 2, 3, 4],\r\n",
    "    1: [0, 2, 5, 6],\r\n",
    "    2: [0, 1, 4, 5],\r\n",
    "    3: [0, 4, 5, 6],\r\n",
    "    4: [0, 2, 3, 5, 6],\r\n",
    "    5: [1, 2, 3, 4, 6],\r\n",
    "    6: [1, 3, 4, 5]    \r\n",
    "}\r\n",
    "G = [verts, edges]\r\n",
    "\r\n",
    "# P = np.array([\r\n",
    "#     [ 0,  1, -1,  1, -1,  0,  0],\r\n",
    "#     [ 0,  1,  1, -1, -1,  0,  0],\r\n",
    "#     [ 0,  4,  4,  4,  4,  8,  4]\r\n",
    "# ])\r\n",
    "\r\n",
    "f2 = rigidity.Framework(G, P)\r\n",
    "R2 = f2.rigidityMatrix()"
   ],
   "outputs": [],
   "metadata": {}
  },
  {
   "cell_type": "code",
   "execution_count": 163,
   "source": [
    "import utils\r\n",
    "\r\n",
    "P = f0.config\r\n",
    "R = f0.rigidityMatrix()\r\n",
    "n = len(P.T)\r\n",
    "d = f0.dimension\r\n",
    "\r\n",
    "translations = []\r\n",
    "for i in range(d):\r\n",
    "    translation = np.zeros(d*n)\r\n",
    "    translation[i::d] = 1\r\n",
    "    translations.append(translation)\r\n",
    "trivials = np.column_stack(translations)\r\n",
    "\r\n",
    "rotations = utils.infRotations(d)\r\n",
    "for rotMat in rotations:\r\n",
    "    infRot = (rotMat@P).ravel('F')\r\n",
    "    trivials = np.column_stack([trivials, infRot])"
   ],
   "outputs": [],
   "metadata": {}
  },
  {
   "cell_type": "code",
   "execution_count": 317,
   "source": [
    "_ = f.draw()"
   ],
   "outputs": [
    {
     "output_type": "display_data",
     "data": {
      "text/plain": [
       "Canvas(toolbar=Toolbar(toolitems=[('Home', 'Reset original view', 'home', 'home'), ('Back', 'Back to previous …"
      ],
      "application/vnd.jupyter.widget-view+json": {
       "version_major": 2,
       "version_minor": 0,
       "model_id": "7506f83514d948d582c573b400147f52"
      }
     },
     "metadata": {}
    }
   ],
   "metadata": {}
  },
  {
   "cell_type": "code",
   "execution_count": null,
   "source": [],
   "outputs": [],
   "metadata": {}
  }
 ],
 "metadata": {
  "orig_nbformat": 4,
  "language_info": {
   "name": "python",
   "version": "3.9.5",
   "mimetype": "text/x-python",
   "codemirror_mode": {
    "name": "ipython",
    "version": 3
   },
   "pygments_lexer": "ipython3",
   "nbconvert_exporter": "python",
   "file_extension": ".py"
  },
  "kernelspec": {
   "name": "python3",
   "display_name": "Python 3.9.5 64-bit ('laidlaw': conda)"
  },
  "interpreter": {
   "hash": "12524c2f6cf4a5b8bb2aee4aaa408d284f273fcd894d46d1287f258afb38f018"
  }
 },
 "nbformat": 4,
 "nbformat_minor": 2
}