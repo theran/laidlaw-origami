{
 "cells": [
  {
   "cell_type": "code",
   "execution_count": 1,
   "source": [
    "import package"
   ],
   "outputs": [],
   "metadata": {}
  },
  {
   "cell_type": "code",
   "execution_count": 2,
   "source": [
    "dir(package)"
   ],
   "outputs": [
    {
     "output_type": "execute_result",
     "data": {
      "text/plain": [
       "['__doc__',\n",
       " '__file__',\n",
       " '__loader__',\n",
       " '__name__',\n",
       " '__package__',\n",
       " '__path__',\n",
       " '__spec__']"
      ]
     },
     "metadata": {},
     "execution_count": 2
    }
   ],
   "metadata": {}
  },
  {
   "cell_type": "code",
   "execution_count": 3,
   "source": [
    "package.__spec__"
   ],
   "outputs": [
    {
     "output_type": "execute_result",
     "data": {
      "text/plain": [
       "ModuleSpec(name='package', loader=<_frozen_importlib_external._NamespaceLoader object at 0x000001CFD413B340>, submodule_search_locations=_NamespacePath(['c:\\\\Users\\\\josep\\\\OneDrive - University of St Andrews\\\\Documents\\\\St Andrews\\\\Laidlaw\\\\GitHub\\\\laidlaw-origami\\\\package', 'c:\\\\Users\\\\josep\\\\OneDrive - University of St Andrews\\\\Documents\\\\St Andrews\\\\Laidlaw\\\\GitHub\\\\laidlaw-origami\\\\package']))"
      ]
     },
     "metadata": {},
     "execution_count": 3
    }
   ],
   "metadata": {}
  },
  {
   "cell_type": "code",
   "execution_count": null,
   "source": [],
   "outputs": [],
   "metadata": {}
  }
 ],
 "metadata": {
  "orig_nbformat": 4,
  "language_info": {
   "name": "python"
  }
 },
 "nbformat": 4,
 "nbformat_minor": 2
}