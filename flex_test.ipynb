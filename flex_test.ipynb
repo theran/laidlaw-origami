{
 "cells": [
  {
   "cell_type": "code",
   "execution_count": 27,
   "source": [
    "import rigidity\r\n",
    "import numpy as np\r\n",
    "import scipy.linalg\r\n",
    "from sympy import Matrix"
   ],
   "outputs": [],
   "metadata": {}
  },
  {
   "cell_type": "code",
   "execution_count": 268,
   "source": [
    "verts = [0,1,2,3,4,5,6]\r\n",
    "edges = {\r\n",
    "    0: [1, 2, 6],\r\n",
    "    1: [0, 3, 6],\r\n",
    "    2: [0, 4],\r\n",
    "    3: [1, 5],\r\n",
    "    4: [2, 5, 6],\r\n",
    "    5: [3, 4, 6],\r\n",
    "    6: [0, 1, 4, 5]\r\n",
    "}\r\n",
    "G = [verts, edges]\r\n",
    "\r\n",
    "r0 = np.array([[0, 0, 0]]).transpose()\r\n",
    "r1 = np.array([[0, 0, 1]]).transpose()\r\n",
    "r2 = np.array([[0, 1, 0]]).transpose()\r\n",
    "r3 = np.array([[0, 1, 1]]).transpose()\r\n",
    "r4 = np.array([[1, 0, 0]]).transpose()\r\n",
    "r5 = np.array([[1, 0, 1]]).transpose()\r\n",
    "r6 = np.array([[1, 1, 0]]).transpose()\r\n",
    "\r\n",
    "P = [r0, r1, r2, r3, r4, r5, r6]\r\n",
    "n = len(P)\r\n",
    "\r\n",
    "f = rigidity.Framework(G, P)\r\n",
    "P = np.column_stack(P)"
   ],
   "outputs": [],
   "metadata": {}
  },
  {
   "cell_type": "code",
   "execution_count": 283,
   "source": [
    "R = f.rigidityMatrix()"
   ],
   "outputs": [],
   "metadata": {}
  },
  {
   "cell_type": "code",
   "execution_count": 284,
   "source": [
    "f.draw()"
   ],
   "outputs": [
    {
     "output_type": "display_data",
     "data": {
      "text/plain": [
       "Canvas(toolbar=Toolbar(toolitems=[('Home', 'Reset original view', 'home', 'home'), ('Back', 'Back to previous …"
      ],
      "application/vnd.jupyter.widget-view+json": {
       "version_major": 2,
       "version_minor": 0,
       "model_id": "375d87c4b600412d942e04165ddda129"
      }
     },
     "metadata": {}
    }
   ],
   "metadata": {}
  },
  {
   "cell_type": "code",
   "execution_count": 285,
   "source": [
    "p1 = np.array([\r\n",
    "    [  0,  1,  0],\r\n",
    "    [ -1,  0,  0],\r\n",
    "    [  0,  0,  0]\r\n",
    "])\r\n",
    "\r\n",
    "p2 = np.array([\r\n",
    "    [  0,  0,  1],\r\n",
    "    [  0,  0,  0],\r\n",
    "    [ -1,  0,  0]\r\n",
    "])\r\n",
    "\r\n",
    "p3 = np.array([\r\n",
    "    [  0,  0,  0],\r\n",
    "    [  0,  0,  1],\r\n",
    "    [  0, -1,  0]\r\n",
    "])\r\n",
    "\r\n",
    "Tx = np.array([1, 0, 0] * n)\r\n",
    "Ty = np.array([0, 1, 0] * n)\r\n",
    "Tz = np.array([0, 0, 1] * n)\r\n",
    "R1 = (p1@P).T.flatten()\r\n",
    "R2 = (p2@P).T.flatten()\r\n",
    "R3 = (p3@P).T.flatten()"
   ],
   "outputs": [],
   "metadata": {}
  },
  {
   "cell_type": "code",
   "execution_count": 298,
   "source": [
    "N = scipy.linalg.null_space(R)\r\n",
    "Triv = np.column_stack([Tx, Ty, Tz, R1, R2, R3])\r\n",
    "TrivOrth = scipy.linalg.orth(Triv)\r\n",
    "N_flexes = N.shape[1]"
   ],
   "outputs": [
    {
     "output_type": "execute_result",
     "data": {
      "text/plain": [
       "(21, 11)"
      ]
     },
     "metadata": {},
     "execution_count": 298
    }
   ],
   "metadata": {}
  },
  {
   "cell_type": "code",
   "execution_count": 308,
   "source": [
    "NullVects = [N[:,i] for i in range(N_flexes)]\r\n",
    "projAway = np.empty_like(N)\r\n",
    "\r\n",
    "for j, v in enumerate(NullVects):\r\n",
    "    v = v.copy()\r\n",
    "    trivVect = np.zeros(3*n)\r\n",
    "    for i in range(6):\r\n",
    "        trivVect += v.dot(TrivOrth[:,i])*TrivOrth[:,i]\r\n",
    "    projAway[:,j] = (v-trivVect)\r\n"
   ],
   "outputs": [],
   "metadata": {}
  },
  {
   "cell_type": "code",
   "execution_count": 314,
   "source": [
    "O = scipy.linalg.orth(projAway)"
   ],
   "outputs": [],
   "metadata": {}
  },
  {
   "cell_type": "code",
   "execution_count": 338,
   "source": [
    "[\r\n",
    "    O[:,0].dot(Tx),\r\n",
    "    O[:,0].dot(Ty),\r\n",
    "    O[:,0].dot(Tz),\r\n",
    "    O[:,0].dot(R1),\r\n",
    "    O[:,0].dot(R2),\r\n",
    "    O[:,0].dot(R3)\r\n",
    "]"
   ],
   "outputs": [
    {
     "output_type": "execute_result",
     "data": {
      "text/plain": [
       "[0.0,\n",
       " 6.938893903907228e-17,\n",
       " 4.440892098500626e-16,\n",
       " -2.220446049250313e-16,\n",
       " 1.1102230246251565e-16,\n",
       " -4.440892098500626e-16]"
      ]
     },
     "metadata": {},
     "execution_count": 338
    }
   ],
   "metadata": {}
  },
  {
   "cell_type": "code",
   "execution_count": 164,
   "source": [
    "%matplotlib widget\r\n",
    "f.draw()"
   ],
   "outputs": [
    {
     "output_type": "display_data",
     "data": {
      "text/plain": [
       "Canvas(toolbar=Toolbar(toolitems=[('Home', 'Reset original view', 'home', 'home'), ('Back', 'Back to previous …"
      ],
      "application/vnd.jupyter.widget-view+json": {
       "version_major": 2,
       "version_minor": 0,
       "model_id": "92c235699d3a415a918d7770229f04ae"
      }
     },
     "metadata": {}
    }
   ],
   "metadata": {}
  }
 ],
 "metadata": {
  "orig_nbformat": 4,
  "language_info": {
   "name": "python"
  }
 },
 "nbformat": 4,
 "nbformat_minor": 2
}