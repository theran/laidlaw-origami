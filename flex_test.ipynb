{
 "cells": [
  {
   "cell_type": "code",
   "execution_count": 27,
   "source": [
    "import rigidity\r\n",
    "import numpy as np\r\n",
    "import scipy.linalg\r\n",
    "from sympy import Matrix"
   ],
   "outputs": [],
   "metadata": {}
  },
  {
   "cell_type": "code",
   "execution_count": 141,
   "source": [
    "verts = [0,1,2,3]\r\n",
    "edges = {\r\n",
    "    0: [1, 2, 3],\r\n",
    "    1: [0, 2, 3],\r\n",
    "    2: [0, 1],\r\n",
    "    3: [0, 1]\r\n",
    "}\r\n",
    "G = [verts, edges]\r\n",
    "\r\n",
    "r1 = np.array([[0, 0, 0]]).transpose()\r\n",
    "r2 = np.array([[1, 0, 0]]).transpose()\r\n",
    "r3 = np.array([[0, 1, 0]]).transpose()\r\n",
    "r4 = np.array([[0, 0, 1]]).transpose()\r\n",
    "P = [r1, r2, r3, r4]\r\n",
    "\r\n",
    "f = rigidity.Framework(G, P)"
   ],
   "outputs": [],
   "metadata": {}
  },
  {
   "cell_type": "code",
   "execution_count": 124,
   "source": [
    "R = f.rigidityMatrix()\r\n",
    "R"
   ],
   "outputs": [
    {
     "output_type": "execute_result",
     "data": {
      "text/plain": [
       "array([[-1.,  0.,  0.,  1.,  0.,  0.,  0.,  0.,  0.,  0.,  0.,  0.],\n",
       "       [ 0., -1.,  0.,  0.,  0.,  0.,  0.,  1.,  0.,  0.,  0.,  0.],\n",
       "       [ 0.,  0., -1.,  0.,  0.,  0.,  0.,  0.,  0.,  0.,  0.,  1.],\n",
       "       [ 0.,  0.,  0.,  1., -1.,  0., -1.,  1.,  0.,  0.,  0.,  0.],\n",
       "       [ 0.,  0.,  0.,  1.,  0., -1.,  0.,  0.,  0., -1.,  0.,  1.]])"
      ]
     },
     "metadata": {},
     "execution_count": 124
    }
   ],
   "metadata": {}
  },
  {
   "cell_type": "code",
   "execution_count": 156,
   "source": [
    "Tx = np.array([1, 0, 0, 1, 0, 0, 1, 0, 0, 1, 0, 0])\r\n",
    "Ty = np.array([0, 1, 0, 0, 1, 0, 0, 1, 0, 0, 1, 0])\r\n",
    "Tz = np.array([0, 0, 1, 0, 0, 1, 0, 0, 1, 0, 0, 1])\r\n",
    "Rx = np.array([0, 0, 0, 0, 0, 0, 0, 0, 1, 0, -1, 0])\r\n",
    "Ry = np.array([0, 0, 0, 0, 0, 1, 0, 0, 0, -1, 0, 0])\r\n",
    "Rz = np.array([0, 0, 0, 0, 1, 0, -1, 0, 0, 0, 0, 0])"
   ],
   "outputs": [],
   "metadata": {}
  },
  {
   "cell_type": "code",
   "execution_count": 165,
   "source": [
    "N = scipy.linalg.null_space(R)\r\n",
    "Triv = np.column_stack([Tx, Ty, Tz, Rx, Ry, Rz])\r\n",
    "TrivOrth = scipy.linalg.orth(Triv)\r\n",
    "\r\n",
    "NullVects = [N[:,i] for i in range(7)]\r\n",
    "projAway = []\r\n",
    "\r\n",
    "for v in NullVects:\r\n",
    "    v = v.copy()\r\n",
    "    trivVect = np.zeros(12)\r\n",
    "    for i in range(6):\r\n",
    "        trivVect += v.dot(TrivOrth[:,i])*TrivOrth[:,i]\r\n",
    "    projAway.append(v-trivVect)"
   ],
   "outputs": [],
   "metadata": {}
  },
  {
   "cell_type": "code",
   "execution_count": 169,
   "source": [
    "projAway = [j/j[0] for j in projAway]\r\n",
    "sum(projAway[0])\r\n"
   ],
   "outputs": [
    {
     "output_type": "execute_result",
     "data": {
      "text/plain": [
       "2.375877272697835e-13"
      ]
     },
     "metadata": {},
     "execution_count": 169
    }
   ],
   "metadata": {}
  },
  {
   "cell_type": "code",
   "execution_count": 159,
   "source": [
    "A = projAway[0].copy()\r\n",
    "A += (-1*Tx + 3*Ty + 3*Tz -2*Ry -2*Rz).flatten()\r\n",
    "A[A < 0.001] = 0\r\n",
    "A"
   ],
   "outputs": [
    {
     "output_type": "execute_result",
     "data": {
      "text/plain": [
       "array([ 0.,  0.,  0.,  0.,  0.,  0.,  0.,  0., 10.,  0., 10.,  0.])"
      ]
     },
     "metadata": {},
     "execution_count": 159
    }
   ],
   "metadata": {}
  },
  {
   "cell_type": "code",
   "execution_count": 164,
   "source": [
    "%matplotlib widget\r\n",
    "f.draw()"
   ],
   "outputs": [
    {
     "output_type": "display_data",
     "data": {
      "text/plain": [
       "Canvas(toolbar=Toolbar(toolitems=[('Home', 'Reset original view', 'home', 'home'), ('Back', 'Back to previous …"
      ],
      "application/vnd.jupyter.widget-view+json": {
       "version_major": 2,
       "version_minor": 0,
       "model_id": "92c235699d3a415a918d7770229f04ae"
      }
     },
     "metadata": {}
    }
   ],
   "metadata": {}
  },
  {
   "cell_type": "code",
   "execution_count": null,
   "source": [],
   "outputs": [],
   "metadata": {}
  }
 ],
 "metadata": {
  "orig_nbformat": 4,
  "language_info": {
   "name": "python"
  }
 },
 "nbformat": 4,
 "nbformat_minor": 2
}