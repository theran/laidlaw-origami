{
 "cells": [
  {
   "cell_type": "code",
   "execution_count": 27,
   "source": [
    "import rigidity\r\n",
    "import numpy as np\r\n",
    "import scipy.linalg\r\n",
    "from sympy import Matrix"
   ],
   "outputs": [],
   "metadata": {}
  },
  {
   "cell_type": "code",
   "execution_count": 5,
   "source": [
    "verts = [0,1,2,3]\r\n",
    "edges = {\r\n",
    "    0: [1, 2],\r\n",
    "    1: [0, 2, 3],\r\n",
    "    2: [0, 1, 3],\r\n",
    "    3: [1, 2]\r\n",
    "}\r\n",
    "G = [verts, edges]\r\n",
    "\r\n",
    "r1 = np.array([[0, 0, 0]]).transpose()\r\n",
    "r2 = np.array([[1, 0, 0]]).transpose()\r\n",
    "r3 = np.array([[0, 1, 0]]).transpose()\r\n",
    "r4 = np.array([[0, 0, 1]]).transpose()\r\n",
    "P = [r1, r2, r3, r4]\r\n",
    "\r\n",
    "f = rigidity.Framework(G, P)"
   ],
   "outputs": [],
   "metadata": {}
  },
  {
   "cell_type": "code",
   "execution_count": 11,
   "source": [
    "R = f.rigidityMatrix()\r\n",
    "R"
   ],
   "outputs": [
    {
     "output_type": "execute_result",
     "data": {
      "text/plain": [
       "array([[-1.,  0.,  0.,  1.,  0.,  0.,  0.,  0.,  0.,  0.,  0.,  0.],\n",
       "       [ 0., -1.,  0.,  0.,  0.,  0.,  0.,  1.,  0.,  0.,  0.,  0.],\n",
       "       [ 0.,  0.,  0.,  1., -1.,  0., -1.,  1.,  0.,  0.,  0.,  0.],\n",
       "       [ 0.,  0.,  0.,  1.,  0., -1.,  0.,  0.,  0., -1.,  0.,  1.],\n",
       "       [ 0.,  0.,  0.,  0.,  0.,  0.,  0.,  1., -1.,  0., -1.,  1.]])"
      ]
     },
     "metadata": {},
     "execution_count": 11
    }
   ],
   "metadata": {}
  },
  {
   "cell_type": "code",
   "execution_count": 7,
   "source": [
    "Tx = np.array([[1, 0, 0, 1, 0, 0, 1, 0, 0, 1, 0, 0]]).T\r\n",
    "Ty = np.array([[0, 1, 0, 0, 1, 0, 0, 1, 0, 0, 1, 0]]).T\r\n",
    "Tz = np.array([[0, 0, 1, 0, 0, 1, 0, 0, 1, 0, 0, 1]]).T\r\n",
    "Rx = np.array([[0, 0, 0, 0, 0, 0, 0, 0, 1, 0, -1, 0]]).T\r\n",
    "Ry = np.array([[0, 0, 0, 0, 0, 1, 0, 0, 0, -1, 0, 0]]).T\r\n",
    "Rz = np.array([[0, 0, 0, 0, 1, 0, -1, 0, 0, 0, 0, 0]]).T"
   ],
   "outputs": [],
   "metadata": {}
  },
  {
   "cell_type": "code",
   "execution_count": 14,
   "source": [
    "N = scipy.linalg.null_space(R)\r\n",
    "Triv = np.column_stack([Tx, Ty, Tz, Rx, Ry, Rz])\r\n",
    "TrivOrth = scipy.linalg.orth(Triv)\r\n",
    "\r\n",
    "NullVects = [N[:,i] for i in range(7)]\r\n",
    "projAway = []\r\n",
    "\r\n",
    "for v in NullVects:\r\n",
    "    trivVect = np.zeros(12)\r\n",
    "    for i in range(6):\r\n",
    "        trivVect += v.dot(TrivOrth[:,i])*TrivOrth[:,i]\r\n",
    "    projAway.append(v - trivVect)"
   ],
   "outputs": [],
   "metadata": {}
  },
  {
   "cell_type": "code",
   "execution_count": 16,
   "source": [
    "projAway = [j/scipy.linalg.norm(j) for j in projAway]"
   ],
   "outputs": [],
   "metadata": {}
  },
  {
   "cell_type": "code",
   "execution_count": 46,
   "source": [
    "np.linalg.matrix_rank(np.column_stack(projAway).T, 0.0001)"
   ],
   "outputs": [
    {
     "output_type": "execute_result",
     "data": {
      "text/plain": [
       "1"
      ]
     },
     "metadata": {},
     "execution_count": 46
    }
   ],
   "metadata": {}
  },
  {
   "cell_type": "code",
   "execution_count": null,
   "source": [],
   "outputs": [],
   "metadata": {}
  }
 ],
 "metadata": {
  "orig_nbformat": 4,
  "language_info": {
   "name": "python"
  }
 },
 "nbformat": 4,
 "nbformat_minor": 2
}