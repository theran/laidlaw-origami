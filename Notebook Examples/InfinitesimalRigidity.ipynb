{
 "cells": [
  {
   "cell_type": "markdown",
   "metadata": {},
   "source": [
    "# Infinitesimal Rigidity\n",
    "\n",
    "In this notebook, we are going to be exploring the conept of *infinitesimal rigidity*. In particular, We will be looking at\n",
    "\n",
    "* Trivial and non-trivial flexes\n",
    "* The Rigidity Matrix\n",
    "\n",
    "## Imports and helpful functions\n",
    "\n",
    "Before we begin, we first import packages and define some functions that we will use throughout.\n"
   ]
  },
  {
   "cell_type": "code",
   "execution_count": 1,
   "metadata": {},
   "outputs": [],
   "source": [
    "from sympy import Matrix, solve, symbols\n",
    "import numpy as np\n",
    "from scipy import linalg\n",
    "\n",
    "def Vector(*args):\n",
    "    return Matrix([[x] for x in args])"
   ]
  },
  {
   "cell_type": "markdown",
   "metadata": {},
   "source": [
    "## Trivial and non-trivial flexes\n",
    "\n",
    "$\\newcommand{\\iprod}[2]{\\left\\langle #1,#2\\right\\rangle}$\n",
    "\n",
    "Recall that, for a framework $(G,p)$ in dimension $d$, a vector configuration $v$ of $n$ vectors in $\\mathbb{R}^d$ is an **infinitesimal flex** of $(G,p)$ if\n",
    "$$\n",
    "    \\iprod{p_j - p_i}{v_j - v_i} = 0\n",
    "    \\qquad \\text{(all edges $ij\\in E$)}.\n",
    "$$\n",
    "An infinitesimal flex is **trivial** if the stronger condition\n",
    "$$\n",
    "    \\iprod{p_j - p_i}{v_j - v_i} = 0\n",
    "    \\qquad \\text{(all vertices $i\\neq j\\in V$)}\n",
    "$$\n",
    "holds.\n",
    "\n",
    "As the name might sugest, all frameworks permit trivial motions. Therefore, we are usually interested in the non-trivial case, as these flexes correspond to non-euclidean motions in the plane. Below we create a function that finds a basis for the space of these non-trivial motions, if such a space exists.\n"
   ]
  },
  {
   "cell_type": "code",
   "execution_count": 38,
   "metadata": {},
   "outputs": [],
   "source": [
    "def infFlex(G, p):\n",
    "    \"\"\"\n",
    "    Calculates a non-trivial infinitesiaml flex inf such a flex exists.\n",
    "\n",
    "    Parameters\n",
    "    ----------\n",
    "    G : list\n",
    "        Ordered pair consisting of a vertex list and an edge list.\n",
    "    p : list\n",
    "        Configuration in d-dimensional Euclidean Space.\n",
    "    \n",
    "    Returns\n",
    "    -------\n",
    "    flex : list\n",
    "        A non-trivial infinitesimal flex if one exists, otherwise all zeros.\n",
    "\n",
    "    \"\"\"\n",
    "\n",
    "    verts = G[0]\n",
    "    edges = G[1]\n",
    "    n = len(verts)\n",
    "    E = len(edges)\n",
    "    d = len(p[verts[0]])\n",
    "\n",
    "    bars = [p[i]-p[j] for i,j in edges if i<j]\n",
    "\n",
    "    # Create a list of symbols that will represent our flex\n",
    "    flex = []\n",
    "    for i in range(n):\n",
    "        flex.append(Vector(*[symbols('x' + str(i) + str(k)) for k in range(d)]))\n",
    "\n",
    "    # Create a list of constraints that fix the first point in the\n",
    "    # configuration, then constrains the second flex to be in the line between\n",
    "    # p0 and p1, the third flex to lie in the plane defined by p0, p1 and p2\n",
    "    # and so on. This is possible if n > dim and the configuration is in\n",
    "    # general position. We do this by finding the nullspace of the matrix of\n",
    "    # vectors that define the hyperplane, which gives a normal vector. To\n",
    "    # ensure the flex remains in the hyperplane, we enforce that the dot\n",
    "    # product between the normal and the flex is zero.\n",
    "    nonTrivConstraints = []\n",
    "    for entry in flex[0]:\n",
    "        nonTrivConstraints.append(entry)\n",
    "\n",
    "    p0 = p[0]\n",
    "    for i in range(1,d):\n",
    "        vects = [p0 - pi for pi in p[1:i+1]]\n",
    "        fixedHypPlane = Matrix([v.transpose() for v in vects])\n",
    "        normal = fixedHypPlane.nullspace()[0]\n",
    "\n",
    "        constraint = flex[i].dot(normal)\n",
    "        nonTrivConstraints.append(constraint)\n",
    "\n",
    "    # Solve the system and apply the constraints to flex\n",
    "    nonTrivSoln = solve(nonTrivConstraints)\n",
    "    flex = [delta.subs(nonTrivSoln) for delta in flex]\n",
    "\n",
    "    # Create the constraints necessary for infinitesimal rigidity\n",
    "    flexEqns = [flex[i]-flex[j] for i,j in edges if i<j]\n",
    "    rigidConstraints = [bar.dot(flexEqns[i]) for i, bar in enumerate(bars)]\n",
    "\n",
    "    # Solve the system\n",
    "    soln = solve(rigidConstraints, dict=True)\n",
    "    flex = [delta.subs(soln[0]) for delta in flex]\n",
    "\n",
    "    return flex"
   ]
  },
  {
   "cell_type": "markdown",
   "metadata": {},
   "source": [
    "### Examlpes\n",
    "\n",
    "To see how we can use this function, we look at the following examples:\n",
    "\n",
    "* Octahedron with a flattened vertex\n",
    "* Triangle\n",
    "* Square\n",
    "* Square with a brace\n",
    "* Two adjoined squares with braces\n",
    "* Two adjoined squares with braces but in $\\mathbb{R}^3$\n"
   ]
  },
  {
   "cell_type": "code",
   "execution_count": 41,
   "metadata": {},
   "outputs": [],
   "source": [
    "# Flattened Octahedron\n",
    "a1 = Vector(-2,0,0)\n",
    "a2 = Vector(4,2,0)\n",
    "a3 = Vector(2,0,0)\n",
    "a4 = Vector(4,-2,0)\n",
    "a5 = Vector(1,0,3)\n",
    "a6 = Vector(1,0,-3)\n",
    "\n",
    "config = [a1, a2, a3, a4, a5, a6]\n",
    "nbs = {0: [1, 3, 4, 5], 1: [0, 2, 4, 5], 2: [1, 3, 4, 5],\n",
    "       3: [0, 2, 4, 5], 4: [0, 1, 2, 3], 5: [0, 1, 2, 3]}\n",
    "edges = [(i, j) for i in nbs for j in nbs[i] if i < j]\n",
    "a = infFlex([[0, 1, 2, 3, 4, 5], edges], config)"
   ]
  },
  {
   "cell_type": "code",
   "execution_count": 6,
   "metadata": {},
   "outputs": [],
   "source": [
    "# Triangle\n",
    "b1 = Vector(0,0)\n",
    "b2 = Vector(1,0)\n",
    "b3 = Vector(0,1)\n",
    "\n",
    "verts = [b1,b2,b3]\n",
    "nbs = {0:[1,2], 1:[0,2], 2:[0,1]}\n",
    "b = infFlex(verts, nbs)"
   ]
  },
  {
   "cell_type": "code",
   "execution_count": 7,
   "metadata": {},
   "outputs": [],
   "source": [
    "# Square\n",
    "c1 = Vector(0,0)\n",
    "c2 = Vector(1,0)\n",
    "c3 = Vector(0,1)\n",
    "c4 = Vector(1,1)\n",
    "\n",
    "verts = [c1,c2,c3,c4]\n",
    "nbs = {0:[1,2], 1:[0,3], 2:[0,3], 3:[1,2]}\n",
    "c = infFlex(verts, nbs)"
   ]
  },
  {
   "cell_type": "code",
   "execution_count": 8,
   "metadata": {},
   "outputs": [],
   "source": [
    "# Square with brace\n",
    "d1 = Vector(0,0)\n",
    "d2 = Vector(1,0)\n",
    "d3 = Vector(0,1)\n",
    "d4 = Vector(1,1)\n",
    "\n",
    "verts = [d1,d2,d3,d4]\n",
    "nbs = {0:[1,2,3], 1:[0,3], 2:[0,3], 3:[0,1,2]}\n",
    "d = infFlex(verts, nbs)"
   ]
  },
  {
   "cell_type": "code",
   "execution_count": 9,
   "metadata": {},
   "outputs": [],
   "source": [
    "# Two joined squares with braces\n",
    "e1 = Vector(0,0)\n",
    "e2 = Vector(1,0)\n",
    "e3 = Vector(2,0)\n",
    "e4 = Vector(0,1)\n",
    "e5 = Vector(1,1)\n",
    "e6 = Vector(2,1)\n",
    "\n",
    "verts = [e1,e2,e3,e4,e5,e6]\n",
    "nbs = {0:[1,3,4], 1:[0,2,4,5], 2:[1,5], 3:[0,4], 4:[0,1,3,5], 5:[1,2,4]}\n",
    "e = infFlex(verts, nbs)"
   ]
  },
  {
   "cell_type": "code",
   "execution_count": 10,
   "metadata": {},
   "outputs": [],
   "source": [
    "# Two joined squares with braces, but in R^3\n",
    "f1 = Vector(0,0,0)\n",
    "f2 = Vector(1,0,0)\n",
    "f3 = Vector(2,0,0)\n",
    "f4 = Vector(0,1,0)\n",
    "f5 = Vector(1,1,0)\n",
    "f6 = Vector(2,1,0)\n",
    "\n",
    "verts = [f1,f2,f3,f4,f5,f6]\n",
    "nbs = {0:[1,3,4], 1:[0,2,4,5], 2:[1,5], 3:[0,4], 4:[0,1,3,5], 5:[1,2,4]}\n",
    "f = infFlex(verts, nbs)"
   ]
  },
  {
   "cell_type": "markdown",
   "metadata": {},
   "source": [
    "## The Rigidiy Matrix\n",
    "\n",
    "Recall that we define the matrix of the system of infintesimal flex equations to be the **Rigidity Matrix**. There is a wealth of information we can draw from the properties of this matrix, so we proceed by defining functions to create the Rigidity Matrix, both symbolically and numerically.\n"
   ]
  },
  {
   "cell_type": "code",
   "execution_count": 23,
   "metadata": {},
   "outputs": [],
   "source": [
    "def RigidityMatrixNumerical(G, p):\n",
    "    \"\"\"\n",
    "    Create the numerical rigidity matrix of the framework (G,p).\n",
    "\n",
    "    Parameters\n",
    "    ----------\n",
    "    G : list\n",
    "        Ordered pair consisting of a vertex list and an edge list.\n",
    "    p : list\n",
    "        Configuration in d-dimensional Euclidean Space.\n",
    "\n",
    "    Returns\n",
    "    -------\n",
    "    R : ndarray\n",
    "        The rigidity matrix of (G,p).\n",
    "\n",
    "    \"\"\"\n",
    "\n",
    "    verts = G[0]\n",
    "    edges = G[1]\n",
    "    n = len(verts)\n",
    "    E = len(edges)\n",
    "    d = len(p[verts[0]])\n",
    "\n",
    "    R = np.zeros((E, d*n))\n",
    "    for row, (i, j) in enumerate(edges):\n",
    "        R[row, i*d:(i+1)*d] = (p[i]-p[j]).transpose()\n",
    "        R[row, j*d:(j+1)*d] = (p[j]-p[i]).transpose()\n",
    "    return R"
   ]
  },
  {
   "cell_type": "code",
   "execution_count": 21,
   "metadata": {},
   "outputs": [],
   "source": [
    "def RigidityMatrixSymbolic(G):\n",
    "    \"\"\"\n",
    "    Create the symbolic rigidity matrix of the framework (G,p).\n",
    "\n",
    "    Parameters\n",
    "    ----------\n",
    "    G : list\n",
    "        Ordered pair consisting of a vertex list and an edge list.\n",
    "\n",
    "    Returns\n",
    "    -------\n",
    "    R : MutableDenseMatrix\n",
    "        The rigidity matrix of (G,p).\n",
    "\n",
    "    \"\"\"\n",
    "\n",
    "    verts = G[0]\n",
    "    edges = G[1]\n",
    "    n = len(verts)\n",
    "    E = len(edges)\n",
    "\n",
    "    R = Matrix.zeros(E, n)\n",
    "    for row, (i, j) in enumerate(edges):\n",
    "        R[row, i:i+1] = [symbols('p' + str(i)) - symbols('p' + str(j))]\n",
    "        R[row, j:j+1] = [symbols('p' + str(j)) - symbols('p' + str(i))]\n",
    "    return R"
   ]
  },
  {
   "cell_type": "code",
   "execution_count": 26,
   "metadata": {},
   "outputs": [
    {
     "data": {
      "text/latex": [
       "$\\displaystyle \\left[\\begin{matrix}p_{0} - p_{1} & - p_{0} + p_{1} & 0 & 0 & 0 & 0\\\\p_{0} - p_{3} & 0 & 0 & - p_{0} + p_{3} & 0 & 0\\\\p_{0} - p_{4} & 0 & 0 & 0 & - p_{0} + p_{4} & 0\\\\p_{0} - p_{5} & 0 & 0 & 0 & 0 & - p_{0} + p_{5}\\\\0 & p_{1} - p_{2} & - p_{1} + p_{2} & 0 & 0 & 0\\\\0 & p_{1} - p_{4} & 0 & 0 & - p_{1} + p_{4} & 0\\\\0 & p_{1} - p_{5} & 0 & 0 & 0 & - p_{1} + p_{5}\\\\0 & 0 & p_{2} - p_{3} & - p_{2} + p_{3} & 0 & 0\\\\0 & 0 & p_{2} - p_{4} & 0 & - p_{2} + p_{4} & 0\\\\0 & 0 & p_{2} - p_{5} & 0 & 0 & - p_{2} + p_{5}\\\\0 & 0 & 0 & p_{3} - p_{4} & - p_{3} + p_{4} & 0\\\\0 & 0 & 0 & p_{3} - p_{5} & 0 & - p_{3} + p_{5}\\end{matrix}\\right]$"
      ],
      "text/plain": [
       "Matrix([\n",
       "[p0 - p1, -p0 + p1,        0,        0,        0,        0],\n",
       "[p0 - p3,        0,        0, -p0 + p3,        0,        0],\n",
       "[p0 - p4,        0,        0,        0, -p0 + p4,        0],\n",
       "[p0 - p5,        0,        0,        0,        0, -p0 + p5],\n",
       "[      0,  p1 - p2, -p1 + p2,        0,        0,        0],\n",
       "[      0,  p1 - p4,        0,        0, -p1 + p4,        0],\n",
       "[      0,  p1 - p5,        0,        0,        0, -p1 + p5],\n",
       "[      0,        0,  p2 - p3, -p2 + p3,        0,        0],\n",
       "[      0,        0,  p2 - p4,        0, -p2 + p4,        0],\n",
       "[      0,        0,  p2 - p5,        0,        0, -p2 + p5],\n",
       "[      0,        0,        0,  p3 - p4, -p3 + p4,        0],\n",
       "[      0,        0,        0,  p3 - p5,        0, -p3 + p5]])"
      ]
     },
     "execution_count": 26,
     "metadata": {},
     "output_type": "execute_result"
    }
   ],
   "source": [
    "a1 = Vector(-2, 0, 0)\n",
    "a2 = Vector(4, 2, 0)\n",
    "a3 = Vector(2, 0, 0)\n",
    "a4 = Vector(4, -2, 0)\n",
    "a5 = Vector(1, 0, 3)\n",
    "a6 = Vector(1, 0, -3)\n",
    "\n",
    "config = [a1, a2, a3, a4, a5, a6]\n",
    "nbs = {0: [1, 3, 4, 5], 1: [0, 2, 4, 5], 2: [1, 3, 4, 5],\n",
    "       3: [0, 2, 4, 5], 4: [0, 1, 2, 3], 5: [0, 1, 2, 3]}\n",
    "edges = [(i, j) for i in nbs for j in nbs[i] if i < j]\n",
    "a = RigidityMatrixNumerical([[0, 1, 2, 3, 4, 5], edges], config)\n",
    "a_2 = RigidityMatrixSymbolic([[0, 1, 2, 3, 4, 5], edges])\n",
    "a_2"
   ]
  }
 ],
 "metadata": {
  "interpreter": {
   "hash": "12524c2f6cf4a5b8bb2aee4aaa408d284f273fcd894d46d1287f258afb38f018"
  },
  "kernelspec": {
   "display_name": "Python 3",
   "language": "python",
   "name": "python3"
  },
  "language_info": {
   "codemirror_mode": {
    "name": "ipython",
    "version": 3
   },
   "file_extension": ".py",
   "mimetype": "text/x-python",
   "name": "python",
   "nbconvert_exporter": "python",
   "pygments_lexer": "ipython3",
   "version": "3.8.8"
  }
 },
 "nbformat": 4,
 "nbformat_minor": 2
}
