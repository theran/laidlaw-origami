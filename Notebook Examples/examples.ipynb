{
 "cells": [
  {
   "cell_type": "markdown",
   "source": [
    "# Rigidty Examples\r\n",
    "\r\n",
    "In this notebook, we will be exploring the rigidity.py module\r\n"
   ],
   "metadata": {}
  },
  {
   "cell_type": "code",
   "execution_count": 1,
   "source": [
    "from math import sin, cos, pi\r\n",
    "import numpy as np\r\n",
    "import rigidity"
   ],
   "outputs": [],
   "metadata": {}
  },
  {
   "cell_type": "markdown",
   "source": [
    "## Four vertex example"
   ],
   "metadata": {}
  },
  {
   "cell_type": "code",
   "execution_count": 2,
   "source": [
    "# Define translations for the affine transformation\r\n",
    "l1 = np.array([[0,0,3]]).transpose()\r\n",
    "l2 = np.array([[0,0,10]]).transpose()\r\n",
    "\r\n",
    "# Define the rotations for the affine transformations\r\n",
    "theta1 = pi/6\r\n",
    "theta2 = pi/20\r\n",
    "\r\n",
    "S1 = np.array([\r\n",
    "    [cos(theta1), -sin(theta1), 0],\r\n",
    "    [sin(theta1), cos(theta1), 0],\r\n",
    "    [0, 0, 1]])\r\n",
    "\r\n",
    "S2 = np.array([\r\n",
    "    [cos(theta2), -sin(theta2), 0],\r\n",
    "    [sin(theta2), cos(theta2), 0],\r\n",
    "    [0, 0, 1]])\r\n",
    "\r\n",
    "T1 = rigidity.AffineTransform(S1, l1)\r\n",
    "T2 = rigidity.AffineTransform(S2, l2)\r\n",
    "\r\n",
    "# Define the vertices and edge markings for the graph\r\n",
    "verts = [0, 1, 2, 3]\r\n",
    "edges = {\r\n",
    "    0: [(1, 0, 0), (2, 0, 0), (3, 0, 0)],\r\n",
    "    1: [(0, 1, 0), (2, 1, 0), (3, 0, 0)],\r\n",
    "    2: [(0, 0, 1), (1, 0, 1), (3, 0, 0)],\r\n",
    "    3: [(0, 1, 1), (1, 0, 1), (2, 1, 0)]\r\n",
    "}\r\n",
    "G = [verts, edges]\r\n",
    "\r\n",
    "# Define the 'base' framework\r\n",
    "r1 = np.array([[2, 0, 0]]).transpose()\r\n",
    "r2 = np.array([[3, 2, 1]]).transpose()\r\n",
    "r3 = np.array([[4, 0, 2]]).transpose()\r\n",
    "r4 = np.array([[5, 2, 3]]).transpose()\r\n",
    "P = [r1, r2, r3, r4]\r\n",
    "\r\n",
    "# Define the number of group elements to create\r\n",
    "n = (24, 2)\r\n",
    "\r\n",
    "# Create the framework\r\n",
    "f1 = rigidity.ScrewFramework(G, P, T1, T2)\r\n"
   ],
   "outputs": [],
   "metadata": {}
  },
  {
   "cell_type": "code",
   "execution_count": 3,
   "source": [
    "# Create the rigidity matrix\r\n",
    "R = f1.rigidityMatrix()\r\n",
    "np.linalg.matrix_rank(R)"
   ],
   "outputs": [
    {
     "output_type": "execute_result",
     "data": {
      "text/plain": [
       "10"
      ]
     },
     "metadata": {},
     "execution_count": 3
    }
   ],
   "metadata": {}
  },
  {
   "cell_type": "markdown",
   "source": [
    "## One vertex example"
   ],
   "metadata": {}
  },
  {
   "cell_type": "code",
   "execution_count": 4,
   "source": [
    "%matplotlib widget\r\n",
    "f1.draw(n)"
   ],
   "outputs": [
    {
     "output_type": "display_data",
     "data": {
      "text/plain": [
       "Canvas(toolbar=Toolbar(toolitems=[('Home', 'Reset original view', 'home', 'home'), ('Back', 'Back to previous …"
      ],
      "application/vnd.jupyter.widget-view+json": {
       "version_major": 2,
       "version_minor": 0,
       "model_id": "4c7570a6ccfc40a1b647c14c7d000558"
      }
     },
     "metadata": {}
    }
   ],
   "metadata": {}
  },
  {
   "cell_type": "code",
   "execution_count": 5,
   "source": [
    "verts = [0]\r\n",
    "edges = {0: [(0, 0, 1), (0, 1, 0), (0, 1, 1)]}\r\n",
    "G = [verts, edges]\r\n",
    "\r\n",
    "r1 = np.matrix([1, 0, 0]).transpose()\r\n",
    "P = [r1]\r\n",
    "\r\n",
    "n = (24, 2)\r\n",
    "f2 = rigidity.ScrewFramework(G, P, T1, T2)"
   ],
   "outputs": [],
   "metadata": {}
  },
  {
   "cell_type": "code",
   "execution_count": 6,
   "source": [
    "from sympy import Matrix\r\n",
    "R2 = f2.rigidityMatrix()\r\n",
    "R2"
   ],
   "outputs": [
    {
     "output_type": "execute_result",
     "data": {
      "text/plain": [
       "array([[-2.46233188e-02,  2.77555756e-17,  0.00000000e+00],\n",
       "       [-2.67949192e-01,  5.55111512e-17,  0.00000000e+00],\n",
       "       [-4.45708077e-01,  1.11022302e-16,  0.00000000e+00]])"
      ]
     },
     "metadata": {},
     "execution_count": 6
    }
   ],
   "metadata": {}
  },
  {
   "cell_type": "code",
   "execution_count": 7,
   "source": [
    "import scipy.linalg\r\n",
    "scipy.linalg.null_space(R2)"
   ],
   "outputs": [
    {
     "output_type": "execute_result",
     "data": {
      "text/plain": [
       "array([[2.3995217e-16, 0.0000000e+00],\n",
       "       [1.0000000e+00, 0.0000000e+00],\n",
       "       [0.0000000e+00, 1.0000000e+00]])"
      ]
     },
     "metadata": {},
     "execution_count": 7
    }
   ],
   "metadata": {}
  },
  {
   "cell_type": "code",
   "execution_count": 11,
   "source": [
    "f2.draw(((24,3)))"
   ],
   "outputs": [
    {
     "output_type": "display_data",
     "data": {
      "text/plain": [
       "Canvas(toolbar=Toolbar(toolitems=[('Home', 'Reset original view', 'home', 'home'), ('Back', 'Back to previous …"
      ],
      "application/vnd.jupyter.widget-view+json": {
       "version_major": 2,
       "version_minor": 0,
       "model_id": "80bdcd53101848a3a4055d04ab19e3d8"
      }
     },
     "metadata": {}
    }
   ],
   "metadata": {}
  },
  {
   "cell_type": "markdown",
   "source": [
    "## Clasical Framework in 3D"
   ],
   "metadata": {}
  },
  {
   "cell_type": "code",
   "execution_count": 12,
   "source": [
    "verts = [0,1,2,3]\r\n",
    "edges = {\r\n",
    "    0: [1, 2],\r\n",
    "    1: [0, 2, 3],\r\n",
    "    2: [0, 1, 3],\r\n",
    "    3: [1, 2]\r\n",
    "}\r\n",
    "G = [verts, edges]\r\n",
    "\r\n",
    "r1 = np.array([[0, 0, 0]]).transpose()\r\n",
    "r2 = np.array([[1, 0, 0]]).transpose()\r\n",
    "r3 = np.array([[0, 1, 0]]).transpose()\r\n",
    "r4 = np.array([[0, 0, 1]]).transpose()\r\n",
    "P = [r1, r2, r3, r4]\r\n",
    "\r\n",
    "f3 = rigidity.Framework(G, P)"
   ],
   "outputs": [],
   "metadata": {}
  },
  {
   "cell_type": "code",
   "execution_count": 13,
   "source": [
    "f3.rigidityMatrix()"
   ],
   "outputs": [
    {
     "output_type": "execute_result",
     "data": {
      "text/plain": [
       "array([[-1.,  0.,  0.,  1.,  0.,  0.,  0.,  0.,  0.,  0.,  0.,  0.],\n",
       "       [ 0., -1.,  0.,  0.,  0.,  0.,  0.,  1.,  0.,  0.,  0.,  0.],\n",
       "       [ 0.,  0.,  0.,  1., -1.,  0., -1.,  1.,  0.,  0.,  0.,  0.],\n",
       "       [ 0.,  0.,  0.,  1.,  0., -1.,  0.,  0.,  0., -1.,  0.,  1.],\n",
       "       [ 0.,  0.,  0.,  0.,  0.,  0.,  0.,  1., -1.,  0., -1.,  1.]])"
      ]
     },
     "metadata": {},
     "execution_count": 13
    }
   ],
   "metadata": {}
  },
  {
   "cell_type": "code",
   "execution_count": 14,
   "source": [
    "f3.symbolicRigidityMatrix()"
   ],
   "outputs": [
    {
     "output_type": "execute_result",
     "data": {
      "text/plain": [
       "Matrix([\n",
       "[p0 - p1, -p0 + p1,        0,        0],\n",
       "[p0 - p2,        0, -p0 + p2,        0],\n",
       "[      0,  p1 - p2, -p1 + p2,        0],\n",
       "[      0,  p1 - p3,        0, -p1 + p3],\n",
       "[      0,        0,  p2 - p3, -p2 + p3]])"
      ],
      "text/latex": [
       "$\\displaystyle \\left[\\begin{matrix}p_{0} - p_{1} & - p_{0} + p_{1} & 0 & 0\\\\p_{0} - p_{2} & 0 & - p_{0} + p_{2} & 0\\\\0 & p_{1} - p_{2} & - p_{1} + p_{2} & 0\\\\0 & p_{1} - p_{3} & 0 & - p_{1} + p_{3}\\\\0 & 0 & p_{2} - p_{3} & - p_{2} + p_{3}\\end{matrix}\\right]$"
      ]
     },
     "metadata": {},
     "execution_count": 14
    }
   ],
   "metadata": {}
  },
  {
   "cell_type": "code",
   "execution_count": 15,
   "source": [
    "np.linalg.matrix_rank(f3.rigidityMatrix())"
   ],
   "outputs": [
    {
     "output_type": "execute_result",
     "data": {
      "text/plain": [
       "5"
      ]
     },
     "metadata": {},
     "execution_count": 15
    }
   ],
   "metadata": {}
  },
  {
   "cell_type": "code",
   "execution_count": 13,
   "source": [
    "f3.infinitesimalFlex()"
   ],
   "outputs": [
    {
     "output_type": "execute_result",
     "data": {
      "text/plain": [
       "[Matrix([\n",
       " [0],\n",
       " [0],\n",
       " [0]]),\n",
       " Matrix([\n",
       " [         0],\n",
       " [         0],\n",
       " [-x30 + x32]]),\n",
       " Matrix([\n",
       " [0],\n",
       " [0],\n",
       " [0]]),\n",
       " Matrix([\n",
       " [x30],\n",
       " [x32],\n",
       " [x32]])]"
      ]
     },
     "metadata": {},
     "execution_count": 13
    }
   ],
   "metadata": {}
  },
  {
   "cell_type": "code",
   "execution_count": 16,
   "source": [
    "%matplotlib widget\r\n",
    "f3.draw()"
   ],
   "outputs": [
    {
     "output_type": "display_data",
     "data": {
      "text/plain": [
       "Canvas(toolbar=Toolbar(toolitems=[('Home', 'Reset original view', 'home', 'home'), ('Back', 'Back to previous …"
      ],
      "application/vnd.jupyter.widget-view+json": {
       "version_major": 2,
       "version_minor": 0,
       "model_id": "6dd3d3c96a474c258646c6753b73b5c5"
      }
     },
     "metadata": {}
    }
   ],
   "metadata": {}
  },
  {
   "cell_type": "markdown",
   "source": [
    "## Classical Framework in 2D"
   ],
   "metadata": {}
  },
  {
   "cell_type": "code",
   "execution_count": 17,
   "source": [
    "verts = [0,1,2,3]\r\n",
    "edges = {\r\n",
    "    0: [1, 2],\r\n",
    "    1: [0, 2, 3],\r\n",
    "    2: [0, 1, 3],\r\n",
    "    3: [1, 2]\r\n",
    "}\r\n",
    "G = [verts, edges]\r\n",
    "\r\n",
    "r1 = np.array([[0, 0]]).transpose()\r\n",
    "r2 = np.array([[1, 0]]).transpose()\r\n",
    "r3 = np.array([[0, 1]]).transpose()\r\n",
    "r4 = np.array([[1, 1]]).transpose()\r\n",
    "P = [r1, r2, r3, r4]\r\n",
    "\r\n",
    "f4 = rigidity.Framework(G, P)"
   ],
   "outputs": [],
   "metadata": {}
  },
  {
   "cell_type": "code",
   "execution_count": 18,
   "source": [
    "f4.rigidityMatrix()"
   ],
   "outputs": [
    {
     "output_type": "execute_result",
     "data": {
      "text/plain": [
       "array([[-1.,  0.,  1.,  0.,  0.,  0.,  0.,  0.],\n",
       "       [ 0., -1.,  0.,  0.,  0.,  1.,  0.,  0.],\n",
       "       [ 0.,  0.,  1., -1., -1.,  1.,  0.,  0.],\n",
       "       [ 0.,  0.,  0., -1.,  0.,  0.,  0.,  1.],\n",
       "       [ 0.,  0.,  0.,  0., -1.,  0.,  1.,  0.]])"
      ]
     },
     "metadata": {},
     "execution_count": 18
    }
   ],
   "metadata": {}
  },
  {
   "cell_type": "code",
   "execution_count": 19,
   "source": [
    "f4.symbolicRigidityMatrix()"
   ],
   "outputs": [
    {
     "output_type": "execute_result",
     "data": {
      "text/plain": [
       "Matrix([\n",
       "[p0 - p1, -p0 + p1,        0,        0],\n",
       "[p0 - p2,        0, -p0 + p2,        0],\n",
       "[      0,  p1 - p2, -p1 + p2,        0],\n",
       "[      0,  p1 - p3,        0, -p1 + p3],\n",
       "[      0,        0,  p2 - p3, -p2 + p3]])"
      ],
      "text/latex": [
       "$\\displaystyle \\left[\\begin{matrix}p_{0} - p_{1} & - p_{0} + p_{1} & 0 & 0\\\\p_{0} - p_{2} & 0 & - p_{0} + p_{2} & 0\\\\0 & p_{1} - p_{2} & - p_{1} + p_{2} & 0\\\\0 & p_{1} - p_{3} & 0 & - p_{1} + p_{3}\\\\0 & 0 & p_{2} - p_{3} & - p_{2} + p_{3}\\end{matrix}\\right]$"
      ]
     },
     "metadata": {},
     "execution_count": 19
    }
   ],
   "metadata": {}
  },
  {
   "cell_type": "code",
   "execution_count": 18,
   "source": [
    "f4.infinitesimalFlex()"
   ],
   "outputs": [
    {
     "output_type": "execute_result",
     "data": {
      "text/plain": [
       "[Matrix([\n",
       " [0],\n",
       " [0]]),\n",
       " Matrix([\n",
       " [0],\n",
       " [0]]),\n",
       " Matrix([\n",
       " [0],\n",
       " [0]]),\n",
       " Matrix([\n",
       " [0],\n",
       " [0]])]"
      ]
     },
     "metadata": {},
     "execution_count": 18
    }
   ],
   "metadata": {}
  },
  {
   "cell_type": "code",
   "execution_count": 20,
   "source": [
    "f4.draw()"
   ],
   "outputs": [
    {
     "output_type": "display_data",
     "data": {
      "text/plain": [
       "Canvas(toolbar=Toolbar(toolitems=[('Home', 'Reset original view', 'home', 'home'), ('Back', 'Back to previous …"
      ],
      "application/vnd.jupyter.widget-view+json": {
       "version_major": 2,
       "version_minor": 0,
       "model_id": "432c02e0b1da475186b3c102190d08e1"
      }
     },
     "metadata": {}
    }
   ],
   "metadata": {}
  }
 ],
 "metadata": {
  "interpreter": {
   "hash": "12524c2f6cf4a5b8bb2aee4aaa408d284f273fcd894d46d1287f258afb38f018"
  },
  "kernelspec": {
   "display_name": "Python 3",
   "language": "python",
   "name": "python3"
  },
  "language_info": {
   "codemirror_mode": {
    "name": "ipython",
    "version": 3
   },
   "file_extension": ".py",
   "mimetype": "text/x-python",
   "name": "python",
   "nbconvert_exporter": "python",
   "pygments_lexer": "ipython3",
   "version": "3.8.8"
  }
 },
 "nbformat": 4,
 "nbformat_minor": 2
}