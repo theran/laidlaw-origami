{
 "cells": [
  {
   "cell_type": "markdown",
   "metadata": {},
   "source": [
    "# Infinitesimal Rigidity\n",
    "\n",
    "In this notebook, we are going to be exploring the conept of *infinitesimal rigidity*. In particular, We will be looking at\n",
    "\n",
    "* Trivial and non-trivial flexes\n",
    "* The Rigidity Matrix\n",
    "\n",
    "## Imports and helpful functions\n",
    "\n",
    "Before we begin, we first import packages and define some functions that we will use throughout.\n"
   ]
  },
  {
   "cell_type": "code",
   "execution_count": 1,
   "metadata": {},
   "outputs": [],
   "source": [
    "from sympy import Matrix, solve, symbols\r\n",
    "import numpy as np\r\n",
    "from scipy import linalg\r\n",
    "\r\n",
    "def Vector(*args):\r\n",
    "    return Matrix([[x] for x in args])"
   ]
  },
  {
   "cell_type": "markdown",
   "metadata": {},
   "source": [
    "## Trivial and non-trivial flexes\n",
    "\n",
    "$\\newcommand{\\iprod}[2]{\\left\\langle #1,#2\\right\\rangle}$\n",
    "\n",
    "Recall that, for a framework $(G,p)$ in dimension $d$, a vector configuration $v$ of $n$ vectors in $\\mathbb{R}^d$ is an **infinitesimal flex** of $(G,p)$ if\n",
    "$$\n",
    "    \\iprod{p_j - p_i}{v_j - v_i} = 0\n",
    "    \\qquad \\text{(all edges $ij\\in E$)}.\n",
    "$$\n",
    "An infinitesimal flex is **trivial** if the stronger condition\n",
    "$$\n",
    "    \\iprod{p_j - p_i}{v_j - v_i} = 0\n",
    "    \\qquad \\text{(all vertices $i\\neq j\\in V$)}\n",
    "$$\n",
    "holds.\n",
    "\n",
    "As the name might sugest, all frameworks permit trivial motions. Therefore, we are usually interested in the non-trivial case, as these flexes correspond to non-euclidean motions in the plane. Below we create a function that finds a basis for the space of these non-trivial motions, if such a space exists.\n"
   ]
  },
  {
   "cell_type": "code",
   "execution_count": 38,
   "metadata": {},
   "outputs": [],
   "source": [
    "def infFlex(G, p):\r\n",
    "    \"\"\"\r\n",
    "    Calculates a non-trivial infinitesiaml flex inf such a flex exists.\r\n",
    "\r\n",
    "    Parameters\r\n",
    "    ----------\r\n",
    "    G : list\r\n",
    "        Ordered pair consisting of a vertex list and an edge list.\r\n",
    "    p : list\r\n",
    "        Configuration in d-dimensional Euclidean Space.\r\n",
    "    \r\n",
    "    Returns\r\n",
    "    -------\r\n",
    "    flex : list\r\n",
    "        A non-trivial infinitesimal flex if one exists, otherwise all zeros.\r\n",
    "\r\n",
    "    \"\"\"\r\n",
    "\r\n",
    "    verts = G[0]\r\n",
    "    edges = G[1]\r\n",
    "    n = len(verts)\r\n",
    "    E = len(edges)\r\n",
    "    d = len(p[verts[0]])\r\n",
    "\r\n",
    "    bars = [p[i]-p[j] for i,j in edges if i<j]\r\n",
    "\r\n",
    "    # Create a list of symbols that will represent our flex\r\n",
    "    flex = []\r\n",
    "    for i in range(n):\r\n",
    "        flex.append(Vector(*[symbols('x' + str(i) + str(k)) for k in range(d)]))\r\n",
    "\r\n",
    "    # Create a list of constraints that fix the first point in the\r\n",
    "    # configuration, then constrains the second flex to be in the line between\r\n",
    "    # p0 and p1, the third flex to lie in the plane defined by p0, p1 and p2\r\n",
    "    # and so on. This is possible if n > dim and the configuration is in\r\n",
    "    # general position. We do this by finding the nullspace of the matrix of\r\n",
    "    # vectors that define the hyperplane, which gives a normal vector. To\r\n",
    "    # ensure the flex remains in the hyperplane, we enforce that the dot\r\n",
    "    # product between the normal and the flex is zero.\r\n",
    "    nonTrivConstraints = []\r\n",
    "    for entry in flex[0]:\r\n",
    "        nonTrivConstraints.append(entry)\r\n",
    "\r\n",
    "    p0 = p[0]\r\n",
    "    for i in range(1,d):\r\n",
    "        vects = [p0 - pi for pi in p[1:i+1]]\r\n",
    "        fixedHypPlane = Matrix([v.transpose() for v in vects])\r\n",
    "        normal = fixedHypPlane.nullspace()[0]\r\n",
    "\r\n",
    "        constraint = flex[i].dot(normal)\r\n",
    "        nonTrivConstraints.append(constraint)\r\n",
    "\r\n",
    "    # Solve the system and apply the constraints to flex\r\n",
    "    nonTrivSoln = solve(nonTrivConstraints)\r\n",
    "    flex = [delta.subs(nonTrivSoln) for delta in flex]\r\n",
    "\r\n",
    "    # Create the constraints necessary for infinitesimal rigidity\r\n",
    "    flexEqns = [flex[i]-flex[j] for i,j in edges if i<j]\r\n",
    "    rigidConstraints = [bar.dot(flexEqns[i]) for i, bar in enumerate(bars)]\r\n",
    "\r\n",
    "    # Solve the system\r\n",
    "    soln = solve(rigidConstraints, dict=True)\r\n",
    "    flex = [delta.subs(soln[0]) for delta in flex]\r\n",
    "\r\n",
    "    return flex"
   ]
  },
  {
   "cell_type": "markdown",
   "metadata": {},
   "source": [
    "### Examlpes\n",
    "\n",
    "To see how we can use this function, we look at the following examples:\n",
    "\n",
    "* Octahedron with a flattened vertex\n",
    "* Triangle\n",
    "* Square\n",
    "* Square with a brace\n",
    "* Two adjoined squares with braces\n",
    "* Two adjoined squares with braces but in $\\mathbb{R}^3$\n"
   ]
  },
  {
   "cell_type": "code",
   "execution_count": 41,
   "metadata": {},
   "outputs": [],
   "source": [
    "# Flattened Octahedron\r\n",
    "a1 = Vector(-2,0,0)\r\n",
    "a2 = Vector(4,2,0)\r\n",
    "a3 = Vector(2,0,0)\r\n",
    "a4 = Vector(4,-2,0)\r\n",
    "a5 = Vector(1,0,3)\r\n",
    "a6 = Vector(1,0,-3)\r\n",
    "\r\n",
    "config = [a1, a2, a3, a4, a5, a6]\r\n",
    "nbs = {0: [1, 3, 4, 5], 1: [0, 2, 4, 5], 2: [1, 3, 4, 5],\r\n",
    "       3: [0, 2, 4, 5], 4: [0, 1, 2, 3], 5: [0, 1, 2, 3]}\r\n",
    "edges = [(i, j) for i in nbs for j in nbs[i] if i < j]\r\n",
    "a = infFlex([[0, 1, 2, 3, 4, 5], edges], config)"
   ]
  },
  {
   "cell_type": "code",
   "execution_count": 6,
   "metadata": {},
   "outputs": [],
   "source": [
    "# Triangle\n",
    "b1 = Vector(0,0)\n",
    "b2 = Vector(1,0)\n",
    "b3 = Vector(0,1)\n",
    "\n",
    "verts = [b1,b2,b3]\n",
    "nbs = {0:[1,2], 1:[0,2], 2:[0,1]}\n",
    "b = infFlex(verts, nbs)"
   ]
  },
  {
   "cell_type": "code",
   "execution_count": 7,
   "metadata": {},
   "outputs": [],
   "source": [
    "# Square\n",
    "c1 = Vector(0,0)\n",
    "c2 = Vector(1,0)\n",
    "c3 = Vector(0,1)\n",
    "c4 = Vector(1,1)\n",
    "\n",
    "verts = [c1,c2,c3,c4]\n",
    "nbs = {0:[1,2], 1:[0,3], 2:[0,3], 3:[1,2]}\n",
    "c = infFlex(verts, nbs)"
   ]
  },
  {
   "cell_type": "code",
   "execution_count": 8,
   "metadata": {},
   "outputs": [],
   "source": [
    "# Square with brace\n",
    "d1 = Vector(0,0)\n",
    "d2 = Vector(1,0)\n",
    "d3 = Vector(0,1)\n",
    "d4 = Vector(1,1)\n",
    "\n",
    "verts = [d1,d2,d3,d4]\n",
    "nbs = {0:[1,2,3], 1:[0,3], 2:[0,3], 3:[0,1,2]}\n",
    "d = infFlex(verts, nbs)"
   ]
  },
  {
   "cell_type": "code",
   "execution_count": 9,
   "metadata": {},
   "outputs": [],
   "source": [
    "# Two joined squares with braces\n",
    "e1 = Vector(0,0)\n",
    "e2 = Vector(1,0)\n",
    "e3 = Vector(2,0)\n",
    "e4 = Vector(0,1)\n",
    "e5 = Vector(1,1)\n",
    "e6 = Vector(2,1)\n",
    "\n",
    "verts = [e1,e2,e3,e4,e5,e6]\n",
    "nbs = {0:[1,3,4], 1:[0,2,4,5], 2:[1,5], 3:[0,4], 4:[0,1,3,5], 5:[1,2,4]}\n",
    "e = infFlex(verts, nbs)"
   ]
  },
  {
   "cell_type": "code",
   "execution_count": 10,
   "metadata": {},
   "outputs": [],
   "source": [
    "# Two joined squares with braces, but in R^3\n",
    "f1 = Vector(0,0,0)\n",
    "f2 = Vector(1,0,0)\n",
    "f3 = Vector(2,0,0)\n",
    "f4 = Vector(0,1,0)\n",
    "f5 = Vector(1,1,0)\n",
    "f6 = Vector(2,1,0)\n",
    "\n",
    "verts = [f1,f2,f3,f4,f5,f6]\n",
    "nbs = {0:[1,3,4], 1:[0,2,4,5], 2:[1,5], 3:[0,4], 4:[0,1,3,5], 5:[1,2,4]}\n",
    "f = infFlex(verts, nbs)"
   ]
  },
  {
   "cell_type": "markdown",
   "metadata": {},
   "source": [
    "## The Rigidiy Matrix\r\n",
    "\r\n",
    "Recall that we define the matrix of the system of infintesimal flex equations to be the **Rigidity Matrix**. There is a wealth of information we can draw from the properties of this matrix, so we proceed by defining functions to create the Rigidity Matrix, both symbolically and numerically.\r\n"
   ]
  },
  {
   "cell_type": "code",
   "execution_count": 23,
   "metadata": {},
   "outputs": [],
   "source": [
    "def RigidityMatrixNumerical(G, p):\r\n",
    "    \"\"\"\r\n",
    "    Create the numerical rigidity matrix of the framework (G,p).\r\n",
    "\r\n",
    "    Parameters\r\n",
    "    ----------\r\n",
    "    G : list\r\n",
    "        Ordered pair consisting of a vertex list and an edge list.\r\n",
    "    p : list\r\n",
    "        Configuration in d-dimensional Euclidean Space.\r\n",
    "\r\n",
    "    Returns\r\n",
    "    -------\r\n",
    "    R : ndarray\r\n",
    "        The rigidity matrix of (G,p).\r\n",
    "\r\n",
    "    \"\"\"\r\n",
    "\r\n",
    "    verts = G[0]\r\n",
    "    edges = G[1]\r\n",
    "    n = len(verts)\r\n",
    "    E = len(edges)\r\n",
    "    d = len(p[verts[0]])\r\n",
    "\r\n",
    "    R = np.zeros((E, d*n))\r\n",
    "    for row, (i, j) in enumerate(edges):\r\n",
    "        R[row, i*d:(i+1)*d] = (p[i]-p[j]).transpose()\r\n",
    "        R[row, j*d:(j+1)*d] = (p[j]-p[i]).transpose()\r\n",
    "    return R"
   ]
  },
  {
   "cell_type": "code",
   "execution_count": 21,
   "metadata": {},
   "outputs": [],
   "source": [
    "def RigidityMatrixSymbolic(G):\r\n",
    "    \"\"\"\r\n",
    "    Create the symbolic rigidity matrix of the framework (G,p).\r\n",
    "\r\n",
    "    Parameters\r\n",
    "    ----------\r\n",
    "    G : list\r\n",
    "        Ordered pair consisting of a vertex list and an edge list.\r\n",
    "\r\n",
    "    Returns\r\n",
    "    -------\r\n",
    "    R : MutableDenseMatrix\r\n",
    "        The rigidity matrix of (G,p).\r\n",
    "\r\n",
    "    \"\"\"\r\n",
    "\r\n",
    "    verts = G[0]\r\n",
    "    edges = G[1]\r\n",
    "    n = len(verts)\r\n",
    "    E = len(edges)\r\n",
    "\r\n",
    "    R = Matrix.zeros(E, n)\r\n",
    "    for row, (i, j) in enumerate(edges):\r\n",
    "        R[row, i:i+1] = [symbols('p' + str(i)) - symbols('p' + str(j))]\r\n",
    "        R[row, j:j+1] = [symbols('p' + str(j)) - symbols('p' + str(i))]\r\n",
    "    return R"
   ]
  },
  {
   "cell_type": "code",
   "execution_count": 26,
   "metadata": {},
   "outputs": [
    {
     "data": {
      "text/latex": [
       "$\\displaystyle \\left[\\begin{matrix}p_{0} - p_{1} & - p_{0} + p_{1} & 0 & 0 & 0 & 0\\\\p_{0} - p_{3} & 0 & 0 & - p_{0} + p_{3} & 0 & 0\\\\p_{0} - p_{4} & 0 & 0 & 0 & - p_{0} + p_{4} & 0\\\\p_{0} - p_{5} & 0 & 0 & 0 & 0 & - p_{0} + p_{5}\\\\0 & p_{1} - p_{2} & - p_{1} + p_{2} & 0 & 0 & 0\\\\0 & p_{1} - p_{4} & 0 & 0 & - p_{1} + p_{4} & 0\\\\0 & p_{1} - p_{5} & 0 & 0 & 0 & - p_{1} + p_{5}\\\\0 & 0 & p_{2} - p_{3} & - p_{2} + p_{3} & 0 & 0\\\\0 & 0 & p_{2} - p_{4} & 0 & - p_{2} + p_{4} & 0\\\\0 & 0 & p_{2} - p_{5} & 0 & 0 & - p_{2} + p_{5}\\\\0 & 0 & 0 & p_{3} - p_{4} & - p_{3} + p_{4} & 0\\\\0 & 0 & 0 & p_{3} - p_{5} & 0 & - p_{3} + p_{5}\\end{matrix}\\right]$"
      ],
      "text/plain": [
       "Matrix([\n",
       "[p0 - p1, -p0 + p1,        0,        0,        0,        0],\n",
       "[p0 - p3,        0,        0, -p0 + p3,        0,        0],\n",
       "[p0 - p4,        0,        0,        0, -p0 + p4,        0],\n",
       "[p0 - p5,        0,        0,        0,        0, -p0 + p5],\n",
       "[      0,  p1 - p2, -p1 + p2,        0,        0,        0],\n",
       "[      0,  p1 - p4,        0,        0, -p1 + p4,        0],\n",
       "[      0,  p1 - p5,        0,        0,        0, -p1 + p5],\n",
       "[      0,        0,  p2 - p3, -p2 + p3,        0,        0],\n",
       "[      0,        0,  p2 - p4,        0, -p2 + p4,        0],\n",
       "[      0,        0,  p2 - p5,        0,        0, -p2 + p5],\n",
       "[      0,        0,        0,  p3 - p4, -p3 + p4,        0],\n",
       "[      0,        0,        0,  p3 - p5,        0, -p3 + p5]])"
      ]
     },
     "execution_count": 26,
     "metadata": {},
     "output_type": "execute_result"
    }
   ],
   "source": [
    "a1 = Vector(-2, 0, 0)\r\n",
    "a2 = Vector(4, 2, 0)\r\n",
    "a3 = Vector(2, 0, 0)\r\n",
    "a4 = Vector(4, -2, 0)\r\n",
    "a5 = Vector(1, 0, 3)\r\n",
    "a6 = Vector(1, 0, -3)\r\n",
    "\r\n",
    "config = [a1, a2, a3, a4, a5, a6]\r\n",
    "nbs = {0: [1, 3, 4, 5], 1: [0, 2, 4, 5], 2: [1, 3, 4, 5],\r\n",
    "       3: [0, 2, 4, 5], 4: [0, 1, 2, 3], 5: [0, 1, 2, 3]}\r\n",
    "edges = [(i, j) for i in nbs for j in nbs[i] if i < j]\r\n",
    "a = RigidityMatrixNumerical([[0, 1, 2, 3, 4, 5], edges], config)\r\n",
    "a_2 = RigidityMatrixSymbolic([[0, 1, 2, 3, 4, 5], edges])\r\n",
    "a_2"
   ]
  }
 ],
 "metadata": {
  "interpreter": {
   "hash": "12524c2f6cf4a5b8bb2aee4aaa408d284f273fcd894d46d1287f258afb38f018"
  },
  "kernelspec": {
   "display_name": "Python 3.9.5 64-bit ('laidlaw': conda)",
   "name": "python3"
  },
  "language_info": {
   "codemirror_mode": {
    "name": "ipython",
    "version": 3
   },
   "file_extension": ".py",
   "mimetype": "text/x-python",
   "name": "python",
   "nbconvert_exporter": "python",
   "pygments_lexer": "ipython3",
   "version": "3.9.5"
  }
 },
 "nbformat": 4,
 "nbformat_minor": 2
}